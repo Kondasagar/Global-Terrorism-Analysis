{
  "nbformat": 4,
  "nbformat_minor": 0,
  "metadata": {
    "kernelspec": {
      "display_name": "Python 3",
      "language": "python",
      "name": "python3"
    },
    "language_info": {
      "codemirror_mode": {
        "name": "ipython",
        "version": 3
      },
      "file_extension": ".py",
      "mimetype": "text/x-python",
      "name": "python",
      "nbconvert_exporter": "python",
      "pygments_lexer": "ipython3",
      "version": "3.6.6"
    },
    "colab": {
      "name": "Global Terrorism Analysis - Capstone Project.ipynb",
      "provenance": [],
      "collapsed_sections": [],
      "include_colab_link": true
    }
  },
  "cells": [
    {
      "cell_type": "markdown",
      "metadata": {
        "id": "view-in-github",
        "colab_type": "text"
      },
      "source": [
        "<a href=\"https://colab.research.google.com/github/Kondasagar/Global-Terrorism-Analysis/blob/main/Global_Terrorism_Analysis_Capstone_Project.ipynb\" target=\"_parent\"><img src=\"https://colab.research.google.com/assets/colab-badge.svg\" alt=\"Open In Colab\"/></a>"
      ]
    },
    {
      "cell_type": "markdown",
      "metadata": {
        "id": "Y06xIdG26kRF"
      },
      "source": [
        "## <b> The Global Terrorism Database (GTD) is an open-source database including information on terrorist attacks around the world from 1970 through 2017. The GTD includes systematic data on domestic as well as international terrorist incidents that have occurred during this time period and now includes more than 180,000 attacks. The database is maintained by researchers at the National Consortium for the Study of Terrorism and Responses to Terrorism (START), headquartered at the University of Maryland.</b>\n",
        "\n",
        "# <b> Explore and analyze the data to discover key findings pertaining to terrorist activities. </b>"
      ]
    },
    {
      "cell_type": "markdown",
      "source": [
        "![gtd.jpg](data:image/jpeg;base64,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)"
      ],
      "metadata": {
        "id": "jwLaj5PZkjhy"
      }
    },
    {
      "cell_type": "markdown",
      "source": [
        "## Mounting the drive "
      ],
      "metadata": {
        "id": "N19VgGGSprBH"
      }
    },
    {
      "cell_type": "code",
      "source": [
        "from google.colab import drive\n",
        "drive.mount('/content/drive')"
      ],
      "metadata": {
        "colab": {
          "base_uri": "https://localhost:8080/"
        },
        "id": "usey213XkCY9",
        "outputId": "804536f7-1629-4ede-c2d3-5ca4ce6893b5"
      },
      "execution_count": 1,
      "outputs": [
        {
          "output_type": "stream",
          "name": "stdout",
          "text": [
            "Mounted at /content/drive\n"
          ]
        }
      ]
    },
    {
      "cell_type": "markdown",
      "source": [
        "## Importing the requisite libraries which are important for this analysis"
      ],
      "metadata": {
        "id": "4vcwhtd7p0HD"
      }
    },
    {
      "cell_type": "code",
      "metadata": {
        "id": "dByMsuzT8Tnw"
      },
      "source": [
        "import pandas as pd\n",
        "import numpy as np \n",
        "import matplotlib.pyplot as plt\n",
        "%matplotlib inline\n",
        "import seaborn as sns\n",
        "import plotly.express as px\n",
        "from wordcloud import wordcloud\n",
        "from scipy import signal\n",
        "import warnings\n",
        "warnings.filterwarnings('ignore')\n"
      ],
      "execution_count": 2,
      "outputs": []
    },
    {
      "cell_type": "code",
      "source": [
        "# loading the data set\n",
        "df=pd.read_csv('/content/drive/MyDrive/Colab Notebooks/capstone_projects/Global_terrorism/Copy of Global Terrorism Data.csv',encoding='latin1',low_memory=False)"
      ],
      "metadata": {
        "id": "SWD4zMF0ndFP"
      },
      "execution_count": 3,
      "outputs": []
    },
    {
      "cell_type": "markdown",
      "source": [
        "## Exploring the Original Data set:\n",
        "\n",
        "\n",
        "---\n",
        "\n",
        "\n"
      ],
      "metadata": {
        "id": "UWPE-yaX8t69"
      }
    },
    {
      "cell_type": "code",
      "source": [
        "print(f\"shape of our data set is {df.shape}\")"
      ],
      "metadata": {
        "colab": {
          "base_uri": "https://localhost:8080/"
        },
        "id": "ATFTX042ylWi",
        "outputId": "ab3b29cf-3ae9-45f2-ca58-b7768f58ded5"
      },
      "execution_count": 4,
      "outputs": [
        {
          "output_type": "stream",
          "name": "stdout",
          "text": [
            "shape of our data set is (181691, 135)\n"
          ]
        }
      ]
    },
    {
      "cell_type": "code",
      "source": [
        "# first five rows of data set\n",
        "df.head()"
      ],
      "metadata": {
        "colab": {
          "base_uri": "https://localhost:8080/",
          "height": 317
        },
        "id": "jyHoY41unyFa",
        "outputId": "dd94b685-0933-43e7-e0d0-f00ec7d6df43"
      },
      "execution_count": 5,
      "outputs": [
        {
          "output_type": "execute_result",
          "data": {
            "text/plain": [
              "        eventid  iyear  imonth  iday approxdate  extended resolution  country  \\\n",
              "0  197000000001   1970       7     2        NaN         0        NaN       58   \n",
              "1  197000000002   1970       0     0        NaN         0        NaN      130   \n",
              "2  197001000001   1970       1     0        NaN         0        NaN      160   \n",
              "3  197001000002   1970       1     0        NaN         0        NaN       78   \n",
              "4  197001000003   1970       1     0        NaN         0        NaN      101   \n",
              "\n",
              "          country_txt  region  ... addnotes scite1 scite2  scite3  dbsource  \\\n",
              "0  Dominican Republic       2  ...      NaN    NaN    NaN     NaN      PGIS   \n",
              "1              Mexico       1  ...      NaN    NaN    NaN     NaN      PGIS   \n",
              "2         Philippines       5  ...      NaN    NaN    NaN     NaN      PGIS   \n",
              "3              Greece       8  ...      NaN    NaN    NaN     NaN      PGIS   \n",
              "4               Japan       4  ...      NaN    NaN    NaN     NaN      PGIS   \n",
              "\n",
              "   INT_LOG  INT_IDEO INT_MISC INT_ANY  related  \n",
              "0        0         0        0       0      NaN  \n",
              "1        0         1        1       1      NaN  \n",
              "2       -9        -9        1       1      NaN  \n",
              "3       -9        -9        1       1      NaN  \n",
              "4       -9        -9        1       1      NaN  \n",
              "\n",
              "[5 rows x 135 columns]"
            ],
            "text/html": [
              "\n",
              "  <div id=\"df-747c905a-485c-4af3-b5b5-380b795cffc2\">\n",
              "    <div class=\"colab-df-container\">\n",
              "      <div>\n",
              "<style scoped>\n",
              "    .dataframe tbody tr th:only-of-type {\n",
              "        vertical-align: middle;\n",
              "    }\n",
              "\n",
              "    .dataframe tbody tr th {\n",
              "        vertical-align: top;\n",
              "    }\n",
              "\n",
              "    .dataframe thead th {\n",
              "        text-align: right;\n",
              "    }\n",
              "</style>\n",
              "<table border=\"1\" class=\"dataframe\">\n",
              "  <thead>\n",
              "    <tr style=\"text-align: right;\">\n",
              "      <th></th>\n",
              "      <th>eventid</th>\n",
              "      <th>iyear</th>\n",
              "      <th>imonth</th>\n",
              "      <th>iday</th>\n",
              "      <th>approxdate</th>\n",
              "      <th>extended</th>\n",
              "      <th>resolution</th>\n",
              "      <th>country</th>\n",
              "      <th>country_txt</th>\n",
              "      <th>region</th>\n",
              "      <th>...</th>\n",
              "      <th>addnotes</th>\n",
              "      <th>scite1</th>\n",
              "      <th>scite2</th>\n",
              "      <th>scite3</th>\n",
              "      <th>dbsource</th>\n",
              "      <th>INT_LOG</th>\n",
              "      <th>INT_IDEO</th>\n",
              "      <th>INT_MISC</th>\n",
              "      <th>INT_ANY</th>\n",
              "      <th>related</th>\n",
              "    </tr>\n",
              "  </thead>\n",
              "  <tbody>\n",
              "    <tr>\n",
              "      <th>0</th>\n",
              "      <td>197000000001</td>\n",
              "      <td>1970</td>\n",
              "      <td>7</td>\n",
              "      <td>2</td>\n",
              "      <td>NaN</td>\n",
              "      <td>0</td>\n",
              "      <td>NaN</td>\n",
              "      <td>58</td>\n",
              "      <td>Dominican Republic</td>\n",
              "      <td>2</td>\n",
              "      <td>...</td>\n",
              "      <td>NaN</td>\n",
              "      <td>NaN</td>\n",
              "      <td>NaN</td>\n",
              "      <td>NaN</td>\n",
              "      <td>PGIS</td>\n",
              "      <td>0</td>\n",
              "      <td>0</td>\n",
              "      <td>0</td>\n",
              "      <td>0</td>\n",
              "      <td>NaN</td>\n",
              "    </tr>\n",
              "    <tr>\n",
              "      <th>1</th>\n",
              "      <td>197000000002</td>\n",
              "      <td>1970</td>\n",
              "      <td>0</td>\n",
              "      <td>0</td>\n",
              "      <td>NaN</td>\n",
              "      <td>0</td>\n",
              "      <td>NaN</td>\n",
              "      <td>130</td>\n",
              "      <td>Mexico</td>\n",
              "      <td>1</td>\n",
              "      <td>...</td>\n",
              "      <td>NaN</td>\n",
              "      <td>NaN</td>\n",
              "      <td>NaN</td>\n",
              "      <td>NaN</td>\n",
              "      <td>PGIS</td>\n",
              "      <td>0</td>\n",
              "      <td>1</td>\n",
              "      <td>1</td>\n",
              "      <td>1</td>\n",
              "      <td>NaN</td>\n",
              "    </tr>\n",
              "    <tr>\n",
              "      <th>2</th>\n",
              "      <td>197001000001</td>\n",
              "      <td>1970</td>\n",
              "      <td>1</td>\n",
              "      <td>0</td>\n",
              "      <td>NaN</td>\n",
              "      <td>0</td>\n",
              "      <td>NaN</td>\n",
              "      <td>160</td>\n",
              "      <td>Philippines</td>\n",
              "      <td>5</td>\n",
              "      <td>...</td>\n",
              "      <td>NaN</td>\n",
              "      <td>NaN</td>\n",
              "      <td>NaN</td>\n",
              "      <td>NaN</td>\n",
              "      <td>PGIS</td>\n",
              "      <td>-9</td>\n",
              "      <td>-9</td>\n",
              "      <td>1</td>\n",
              "      <td>1</td>\n",
              "      <td>NaN</td>\n",
              "    </tr>\n",
              "    <tr>\n",
              "      <th>3</th>\n",
              "      <td>197001000002</td>\n",
              "      <td>1970</td>\n",
              "      <td>1</td>\n",
              "      <td>0</td>\n",
              "      <td>NaN</td>\n",
              "      <td>0</td>\n",
              "      <td>NaN</td>\n",
              "      <td>78</td>\n",
              "      <td>Greece</td>\n",
              "      <td>8</td>\n",
              "      <td>...</td>\n",
              "      <td>NaN</td>\n",
              "      <td>NaN</td>\n",
              "      <td>NaN</td>\n",
              "      <td>NaN</td>\n",
              "      <td>PGIS</td>\n",
              "      <td>-9</td>\n",
              "      <td>-9</td>\n",
              "      <td>1</td>\n",
              "      <td>1</td>\n",
              "      <td>NaN</td>\n",
              "    </tr>\n",
              "    <tr>\n",
              "      <th>4</th>\n",
              "      <td>197001000003</td>\n",
              "      <td>1970</td>\n",
              "      <td>1</td>\n",
              "      <td>0</td>\n",
              "      <td>NaN</td>\n",
              "      <td>0</td>\n",
              "      <td>NaN</td>\n",
              "      <td>101</td>\n",
              "      <td>Japan</td>\n",
              "      <td>4</td>\n",
              "      <td>...</td>\n",
              "      <td>NaN</td>\n",
              "      <td>NaN</td>\n",
              "      <td>NaN</td>\n",
              "      <td>NaN</td>\n",
              "      <td>PGIS</td>\n",
              "      <td>-9</td>\n",
              "      <td>-9</td>\n",
              "      <td>1</td>\n",
              "      <td>1</td>\n",
              "      <td>NaN</td>\n",
              "    </tr>\n",
              "  </tbody>\n",
              "</table>\n",
              "<p>5 rows × 135 columns</p>\n",
              "</div>\n",
              "      <button class=\"colab-df-convert\" onclick=\"convertToInteractive('df-747c905a-485c-4af3-b5b5-380b795cffc2')\"\n",
              "              title=\"Convert this dataframe to an interactive table.\"\n",
              "              style=\"display:none;\">\n",
              "        \n",
              "  <svg xmlns=\"http://www.w3.org/2000/svg\" height=\"24px\"viewBox=\"0 0 24 24\"\n",
              "       width=\"24px\">\n",
              "    <path d=\"M0 0h24v24H0V0z\" fill=\"none\"/>\n",
              "    <path d=\"M18.56 5.44l.94 2.06.94-2.06 2.06-.94-2.06-.94-.94-2.06-.94 2.06-2.06.94zm-11 1L8.5 8.5l.94-2.06 2.06-.94-2.06-.94L8.5 2.5l-.94 2.06-2.06.94zm10 10l.94 2.06.94-2.06 2.06-.94-2.06-.94-.94-2.06-.94 2.06-2.06.94z\"/><path d=\"M17.41 7.96l-1.37-1.37c-.4-.4-.92-.59-1.43-.59-.52 0-1.04.2-1.43.59L10.3 9.45l-7.72 7.72c-.78.78-.78 2.05 0 2.83L4 21.41c.39.39.9.59 1.41.59.51 0 1.02-.2 1.41-.59l7.78-7.78 2.81-2.81c.8-.78.8-2.07 0-2.86zM5.41 20L4 18.59l7.72-7.72 1.47 1.35L5.41 20z\"/>\n",
              "  </svg>\n",
              "      </button>\n",
              "      \n",
              "  <style>\n",
              "    .colab-df-container {\n",
              "      display:flex;\n",
              "      flex-wrap:wrap;\n",
              "      gap: 12px;\n",
              "    }\n",
              "\n",
              "    .colab-df-convert {\n",
              "      background-color: #E8F0FE;\n",
              "      border: none;\n",
              "      border-radius: 50%;\n",
              "      cursor: pointer;\n",
              "      display: none;\n",
              "      fill: #1967D2;\n",
              "      height: 32px;\n",
              "      padding: 0 0 0 0;\n",
              "      width: 32px;\n",
              "    }\n",
              "\n",
              "    .colab-df-convert:hover {\n",
              "      background-color: #E2EBFA;\n",
              "      box-shadow: 0px 1px 2px rgba(60, 64, 67, 0.3), 0px 1px 3px 1px rgba(60, 64, 67, 0.15);\n",
              "      fill: #174EA6;\n",
              "    }\n",
              "\n",
              "    [theme=dark] .colab-df-convert {\n",
              "      background-color: #3B4455;\n",
              "      fill: #D2E3FC;\n",
              "    }\n",
              "\n",
              "    [theme=dark] .colab-df-convert:hover {\n",
              "      background-color: #434B5C;\n",
              "      box-shadow: 0px 1px 3px 1px rgba(0, 0, 0, 0.15);\n",
              "      filter: drop-shadow(0px 1px 2px rgba(0, 0, 0, 0.3));\n",
              "      fill: #FFFFFF;\n",
              "    }\n",
              "  </style>\n",
              "\n",
              "      <script>\n",
              "        const buttonEl =\n",
              "          document.querySelector('#df-747c905a-485c-4af3-b5b5-380b795cffc2 button.colab-df-convert');\n",
              "        buttonEl.style.display =\n",
              "          google.colab.kernel.accessAllowed ? 'block' : 'none';\n",
              "\n",
              "        async function convertToInteractive(key) {\n",
              "          const element = document.querySelector('#df-747c905a-485c-4af3-b5b5-380b795cffc2');\n",
              "          const dataTable =\n",
              "            await google.colab.kernel.invokeFunction('convertToInteractive',\n",
              "                                                     [key], {});\n",
              "          if (!dataTable) return;\n",
              "\n",
              "          const docLinkHtml = 'Like what you see? Visit the ' +\n",
              "            '<a target=\"_blank\" href=https://colab.research.google.com/notebooks/data_table.ipynb>data table notebook</a>'\n",
              "            + ' to learn more about interactive tables.';\n",
              "          element.innerHTML = '';\n",
              "          dataTable['output_type'] = 'display_data';\n",
              "          await google.colab.output.renderOutput(dataTable, element);\n",
              "          const docLink = document.createElement('div');\n",
              "          docLink.innerHTML = docLinkHtml;\n",
              "          element.appendChild(docLink);\n",
              "        }\n",
              "      </script>\n",
              "    </div>\n",
              "  </div>\n",
              "  "
            ]
          },
          "metadata": {},
          "execution_count": 5
        }
      ]
    },
    {
      "cell_type": "code",
      "source": [
        "# last five rows of the data set\n",
        "df.tail()"
      ],
      "metadata": {
        "colab": {
          "base_uri": "https://localhost:8080/",
          "height": 716
        },
        "id": "K83GuJBgoHkC",
        "outputId": "8855fb5d-40a5-4840-c2eb-36559946bf65"
      },
      "execution_count": 6,
      "outputs": [
        {
          "output_type": "execute_result",
          "data": {
            "text/plain": [
              "             eventid  iyear  imonth  iday approxdate  extended resolution  \\\n",
              "181686  201712310022   2017      12    31        NaN         0        NaN   \n",
              "181687  201712310029   2017      12    31        NaN         0        NaN   \n",
              "181688  201712310030   2017      12    31        NaN         0        NaN   \n",
              "181689  201712310031   2017      12    31        NaN         0        NaN   \n",
              "181690  201712310032   2017      12    31        NaN         0        NaN   \n",
              "\n",
              "        country  country_txt  region  ... addnotes  \\\n",
              "181686      182      Somalia      11  ...      NaN   \n",
              "181687      200        Syria      10  ...      NaN   \n",
              "181688      160  Philippines       5  ...      NaN   \n",
              "181689       92        India       6  ...      NaN   \n",
              "181690      160  Philippines       5  ...      NaN   \n",
              "\n",
              "                                                   scite1  \\\n",
              "181686  \"Somalia: Al-Shabaab Militants Attack Army Che...   \n",
              "181687  \"Putin's 'victory' in Syria has turned into a ...   \n",
              "181688  \"Maguindanao clashes trap tribe members,\" Phil...   \n",
              "181689  \"Trader escapes grenade attack in Imphal,\" Bus...   \n",
              "181690  \"Security tightened in Cotabato following IED ...   \n",
              "\n",
              "                                                   scite2  \\\n",
              "181686  \"Highlights: Somalia Daily Media Highlights 2 ...   \n",
              "181687  \"Two Russian soldiers killed at Hmeymim base i...   \n",
              "181688                                                NaN   \n",
              "181689                                                NaN   \n",
              "181690  \"Security tightened in Cotabato City,\" Manila ...   \n",
              "\n",
              "                                                   scite3  \\\n",
              "181686  \"Highlights: Somalia Daily Media Highlights 1 ...   \n",
              "181687  \"Two Russian servicemen killed in Syria mortar...   \n",
              "181688                                                NaN   \n",
              "181689                                                NaN   \n",
              "181690                                                NaN   \n",
              "\n",
              "                        dbsource  INT_LOG  INT_IDEO INT_MISC INT_ANY  related  \n",
              "181686  START Primary Collection        0         0        0       0      NaN  \n",
              "181687  START Primary Collection       -9        -9        1       1      NaN  \n",
              "181688  START Primary Collection        0         0        0       0      NaN  \n",
              "181689  START Primary Collection       -9        -9        0      -9      NaN  \n",
              "181690  START Primary Collection       -9        -9        0      -9      NaN  \n",
              "\n",
              "[5 rows x 135 columns]"
            ],
            "text/html": [
              "\n",
              "  <div id=\"df-2ba40f5e-f885-4f44-a83a-dd8eceee8b34\">\n",
              "    <div class=\"colab-df-container\">\n",
              "      <div>\n",
              "<style scoped>\n",
              "    .dataframe tbody tr th:only-of-type {\n",
              "        vertical-align: middle;\n",
              "    }\n",
              "\n",
              "    .dataframe tbody tr th {\n",
              "        vertical-align: top;\n",
              "    }\n",
              "\n",
              "    .dataframe thead th {\n",
              "        text-align: right;\n",
              "    }\n",
              "</style>\n",
              "<table border=\"1\" class=\"dataframe\">\n",
              "  <thead>\n",
              "    <tr style=\"text-align: right;\">\n",
              "      <th></th>\n",
              "      <th>eventid</th>\n",
              "      <th>iyear</th>\n",
              "      <th>imonth</th>\n",
              "      <th>iday</th>\n",
              "      <th>approxdate</th>\n",
              "      <th>extended</th>\n",
              "      <th>resolution</th>\n",
              "      <th>country</th>\n",
              "      <th>country_txt</th>\n",
              "      <th>region</th>\n",
              "      <th>...</th>\n",
              "      <th>addnotes</th>\n",
              "      <th>scite1</th>\n",
              "      <th>scite2</th>\n",
              "      <th>scite3</th>\n",
              "      <th>dbsource</th>\n",
              "      <th>INT_LOG</th>\n",
              "      <th>INT_IDEO</th>\n",
              "      <th>INT_MISC</th>\n",
              "      <th>INT_ANY</th>\n",
              "      <th>related</th>\n",
              "    </tr>\n",
              "  </thead>\n",
              "  <tbody>\n",
              "    <tr>\n",
              "      <th>181686</th>\n",
              "      <td>201712310022</td>\n",
              "      <td>2017</td>\n",
              "      <td>12</td>\n",
              "      <td>31</td>\n",
              "      <td>NaN</td>\n",
              "      <td>0</td>\n",
              "      <td>NaN</td>\n",
              "      <td>182</td>\n",
              "      <td>Somalia</td>\n",
              "      <td>11</td>\n",
              "      <td>...</td>\n",
              "      <td>NaN</td>\n",
              "      <td>\"Somalia: Al-Shabaab Militants Attack Army Che...</td>\n",
              "      <td>\"Highlights: Somalia Daily Media Highlights 2 ...</td>\n",
              "      <td>\"Highlights: Somalia Daily Media Highlights 1 ...</td>\n",
              "      <td>START Primary Collection</td>\n",
              "      <td>0</td>\n",
              "      <td>0</td>\n",
              "      <td>0</td>\n",
              "      <td>0</td>\n",
              "      <td>NaN</td>\n",
              "    </tr>\n",
              "    <tr>\n",
              "      <th>181687</th>\n",
              "      <td>201712310029</td>\n",
              "      <td>2017</td>\n",
              "      <td>12</td>\n",
              "      <td>31</td>\n",
              "      <td>NaN</td>\n",
              "      <td>0</td>\n",
              "      <td>NaN</td>\n",
              "      <td>200</td>\n",
              "      <td>Syria</td>\n",
              "      <td>10</td>\n",
              "      <td>...</td>\n",
              "      <td>NaN</td>\n",
              "      <td>\"Putin's 'victory' in Syria has turned into a ...</td>\n",
              "      <td>\"Two Russian soldiers killed at Hmeymim base i...</td>\n",
              "      <td>\"Two Russian servicemen killed in Syria mortar...</td>\n",
              "      <td>START Primary Collection</td>\n",
              "      <td>-9</td>\n",
              "      <td>-9</td>\n",
              "      <td>1</td>\n",
              "      <td>1</td>\n",
              "      <td>NaN</td>\n",
              "    </tr>\n",
              "    <tr>\n",
              "      <th>181688</th>\n",
              "      <td>201712310030</td>\n",
              "      <td>2017</td>\n",
              "      <td>12</td>\n",
              "      <td>31</td>\n",
              "      <td>NaN</td>\n",
              "      <td>0</td>\n",
              "      <td>NaN</td>\n",
              "      <td>160</td>\n",
              "      <td>Philippines</td>\n",
              "      <td>5</td>\n",
              "      <td>...</td>\n",
              "      <td>NaN</td>\n",
              "      <td>\"Maguindanao clashes trap tribe members,\" Phil...</td>\n",
              "      <td>NaN</td>\n",
              "      <td>NaN</td>\n",
              "      <td>START Primary Collection</td>\n",
              "      <td>0</td>\n",
              "      <td>0</td>\n",
              "      <td>0</td>\n",
              "      <td>0</td>\n",
              "      <td>NaN</td>\n",
              "    </tr>\n",
              "    <tr>\n",
              "      <th>181689</th>\n",
              "      <td>201712310031</td>\n",
              "      <td>2017</td>\n",
              "      <td>12</td>\n",
              "      <td>31</td>\n",
              "      <td>NaN</td>\n",
              "      <td>0</td>\n",
              "      <td>NaN</td>\n",
              "      <td>92</td>\n",
              "      <td>India</td>\n",
              "      <td>6</td>\n",
              "      <td>...</td>\n",
              "      <td>NaN</td>\n",
              "      <td>\"Trader escapes grenade attack in Imphal,\" Bus...</td>\n",
              "      <td>NaN</td>\n",
              "      <td>NaN</td>\n",
              "      <td>START Primary Collection</td>\n",
              "      <td>-9</td>\n",
              "      <td>-9</td>\n",
              "      <td>0</td>\n",
              "      <td>-9</td>\n",
              "      <td>NaN</td>\n",
              "    </tr>\n",
              "    <tr>\n",
              "      <th>181690</th>\n",
              "      <td>201712310032</td>\n",
              "      <td>2017</td>\n",
              "      <td>12</td>\n",
              "      <td>31</td>\n",
              "      <td>NaN</td>\n",
              "      <td>0</td>\n",
              "      <td>NaN</td>\n",
              "      <td>160</td>\n",
              "      <td>Philippines</td>\n",
              "      <td>5</td>\n",
              "      <td>...</td>\n",
              "      <td>NaN</td>\n",
              "      <td>\"Security tightened in Cotabato following IED ...</td>\n",
              "      <td>\"Security tightened in Cotabato City,\" Manila ...</td>\n",
              "      <td>NaN</td>\n",
              "      <td>START Primary Collection</td>\n",
              "      <td>-9</td>\n",
              "      <td>-9</td>\n",
              "      <td>0</td>\n",
              "      <td>-9</td>\n",
              "      <td>NaN</td>\n",
              "    </tr>\n",
              "  </tbody>\n",
              "</table>\n",
              "<p>5 rows × 135 columns</p>\n",
              "</div>\n",
              "      <button class=\"colab-df-convert\" onclick=\"convertToInteractive('df-2ba40f5e-f885-4f44-a83a-dd8eceee8b34')\"\n",
              "              title=\"Convert this dataframe to an interactive table.\"\n",
              "              style=\"display:none;\">\n",
              "        \n",
              "  <svg xmlns=\"http://www.w3.org/2000/svg\" height=\"24px\"viewBox=\"0 0 24 24\"\n",
              "       width=\"24px\">\n",
              "    <path d=\"M0 0h24v24H0V0z\" fill=\"none\"/>\n",
              "    <path d=\"M18.56 5.44l.94 2.06.94-2.06 2.06-.94-2.06-.94-.94-2.06-.94 2.06-2.06.94zm-11 1L8.5 8.5l.94-2.06 2.06-.94-2.06-.94L8.5 2.5l-.94 2.06-2.06.94zm10 10l.94 2.06.94-2.06 2.06-.94-2.06-.94-.94-2.06-.94 2.06-2.06.94z\"/><path d=\"M17.41 7.96l-1.37-1.37c-.4-.4-.92-.59-1.43-.59-.52 0-1.04.2-1.43.59L10.3 9.45l-7.72 7.72c-.78.78-.78 2.05 0 2.83L4 21.41c.39.39.9.59 1.41.59.51 0 1.02-.2 1.41-.59l7.78-7.78 2.81-2.81c.8-.78.8-2.07 0-2.86zM5.41 20L4 18.59l7.72-7.72 1.47 1.35L5.41 20z\"/>\n",
              "  </svg>\n",
              "      </button>\n",
              "      \n",
              "  <style>\n",
              "    .colab-df-container {\n",
              "      display:flex;\n",
              "      flex-wrap:wrap;\n",
              "      gap: 12px;\n",
              "    }\n",
              "\n",
              "    .colab-df-convert {\n",
              "      background-color: #E8F0FE;\n",
              "      border: none;\n",
              "      border-radius: 50%;\n",
              "      cursor: pointer;\n",
              "      display: none;\n",
              "      fill: #1967D2;\n",
              "      height: 32px;\n",
              "      padding: 0 0 0 0;\n",
              "      width: 32px;\n",
              "    }\n",
              "\n",
              "    .colab-df-convert:hover {\n",
              "      background-color: #E2EBFA;\n",
              "      box-shadow: 0px 1px 2px rgba(60, 64, 67, 0.3), 0px 1px 3px 1px rgba(60, 64, 67, 0.15);\n",
              "      fill: #174EA6;\n",
              "    }\n",
              "\n",
              "    [theme=dark] .colab-df-convert {\n",
              "      background-color: #3B4455;\n",
              "      fill: #D2E3FC;\n",
              "    }\n",
              "\n",
              "    [theme=dark] .colab-df-convert:hover {\n",
              "      background-color: #434B5C;\n",
              "      box-shadow: 0px 1px 3px 1px rgba(0, 0, 0, 0.15);\n",
              "      filter: drop-shadow(0px 1px 2px rgba(0, 0, 0, 0.3));\n",
              "      fill: #FFFFFF;\n",
              "    }\n",
              "  </style>\n",
              "\n",
              "      <script>\n",
              "        const buttonEl =\n",
              "          document.querySelector('#df-2ba40f5e-f885-4f44-a83a-dd8eceee8b34 button.colab-df-convert');\n",
              "        buttonEl.style.display =\n",
              "          google.colab.kernel.accessAllowed ? 'block' : 'none';\n",
              "\n",
              "        async function convertToInteractive(key) {\n",
              "          const element = document.querySelector('#df-2ba40f5e-f885-4f44-a83a-dd8eceee8b34');\n",
              "          const dataTable =\n",
              "            await google.colab.kernel.invokeFunction('convertToInteractive',\n",
              "                                                     [key], {});\n",
              "          if (!dataTable) return;\n",
              "\n",
              "          const docLinkHtml = 'Like what you see? Visit the ' +\n",
              "            '<a target=\"_blank\" href=https://colab.research.google.com/notebooks/data_table.ipynb>data table notebook</a>'\n",
              "            + ' to learn more about interactive tables.';\n",
              "          element.innerHTML = '';\n",
              "          dataTable['output_type'] = 'display_data';\n",
              "          await google.colab.output.renderOutput(dataTable, element);\n",
              "          const docLink = document.createElement('div');\n",
              "          docLink.innerHTML = docLinkHtml;\n",
              "          element.appendChild(docLink);\n",
              "        }\n",
              "      </script>\n",
              "    </div>\n",
              "  </div>\n",
              "  "
            ]
          },
          "metadata": {},
          "execution_count": 6
        }
      ]
    },
    {
      "cell_type": "code",
      "source": [
        "# summary of data set by using .info() method\n",
        "df.info()"
      ],
      "metadata": {
        "colab": {
          "base_uri": "https://localhost:8080/"
        },
        "id": "7KLJjESAoXMG",
        "outputId": "282dae54-3184-4284-b054-fcad4dc6388b"
      },
      "execution_count": 7,
      "outputs": [
        {
          "output_type": "stream",
          "name": "stdout",
          "text": [
            "<class 'pandas.core.frame.DataFrame'>\n",
            "RangeIndex: 181691 entries, 0 to 181690\n",
            "Columns: 135 entries, eventid to related\n",
            "dtypes: float64(55), int64(22), object(58)\n",
            "memory usage: 187.1+ MB\n"
          ]
        }
      ]
    },
    {
      "cell_type": "code",
      "source": [
        "# statistic of  numerical features in our data set\n",
        "df.describe()"
      ],
      "metadata": {
        "colab": {
          "base_uri": "https://localhost:8080/",
          "height": 394
        },
        "id": "6jD1fBLPogcK",
        "outputId": "59276d96-ee39-4faf-c7f0-a0e059b1ac20"
      },
      "execution_count": 8,
      "outputs": [
        {
          "output_type": "execute_result",
          "data": {
            "text/plain": [
              "            eventid          iyear         imonth           iday  \\\n",
              "count  1.816910e+05  181691.000000  181691.000000  181691.000000   \n",
              "mean   2.002705e+11    2002.638997       6.467277      15.505644   \n",
              "std    1.325957e+09      13.259430       3.388303       8.814045   \n",
              "min    1.970000e+11    1970.000000       0.000000       0.000000   \n",
              "25%    1.991021e+11    1991.000000       4.000000       8.000000   \n",
              "50%    2.009022e+11    2009.000000       6.000000      15.000000   \n",
              "75%    2.014081e+11    2014.000000       9.000000      23.000000   \n",
              "max    2.017123e+11    2017.000000      12.000000      31.000000   \n",
              "\n",
              "            extended        country         region       latitude  \\\n",
              "count  181691.000000  181691.000000  181691.000000  177135.000000   \n",
              "mean        0.045346     131.968501       7.160938      23.498343   \n",
              "std         0.208063     112.414535       2.933408      18.569242   \n",
              "min         0.000000       4.000000       1.000000     -53.154613   \n",
              "25%         0.000000      78.000000       5.000000      11.510046   \n",
              "50%         0.000000      98.000000       6.000000      31.467463   \n",
              "75%         0.000000     160.000000      10.000000      34.685087   \n",
              "max         1.000000    1004.000000      12.000000      74.633553   \n",
              "\n",
              "          longitude    specificity  ...     ransomamt   ransomamtus  \\\n",
              "count  1.771340e+05  181685.000000  ...  1.350000e+03  5.630000e+02   \n",
              "mean  -4.586957e+02       1.451452  ...  3.172530e+06  5.784865e+05   \n",
              "std    2.047790e+05       0.995430  ...  3.021157e+07  7.077924e+06   \n",
              "min   -8.618590e+07       1.000000  ... -9.900000e+01 -9.900000e+01   \n",
              "25%    4.545640e+00       1.000000  ...  0.000000e+00  0.000000e+00   \n",
              "50%    4.324651e+01       1.000000  ...  1.500000e+04  0.000000e+00   \n",
              "75%    6.871033e+01       1.000000  ...  4.000000e+05  0.000000e+00   \n",
              "max    1.793667e+02       5.000000  ...  1.000000e+09  1.320000e+08   \n",
              "\n",
              "         ransompaid  ransompaidus  hostkidoutcome     nreleased  \\\n",
              "count  7.740000e+02    552.000000    10991.000000  10400.000000   \n",
              "mean   7.179437e+05    240.378623        4.629242    -29.018269   \n",
              "std    1.014392e+07   2940.967293        2.035360     65.720119   \n",
              "min   -9.900000e+01    -99.000000        1.000000    -99.000000   \n",
              "25%   -9.900000e+01      0.000000        2.000000    -99.000000   \n",
              "50%    0.000000e+00      0.000000        4.000000      0.000000   \n",
              "75%    1.273412e+03      0.000000        7.000000      1.000000   \n",
              "max    2.750000e+08  48000.000000        7.000000   2769.000000   \n",
              "\n",
              "             INT_LOG       INT_IDEO       INT_MISC        INT_ANY  \n",
              "count  181691.000000  181691.000000  181691.000000  181691.000000  \n",
              "mean       -4.543731      -4.464398       0.090010      -3.945952  \n",
              "std         4.543547       4.637152       0.568457       4.691325  \n",
              "min        -9.000000      -9.000000      -9.000000      -9.000000  \n",
              "25%        -9.000000      -9.000000       0.000000      -9.000000  \n",
              "50%        -9.000000      -9.000000       0.000000       0.000000  \n",
              "75%         0.000000       0.000000       0.000000       0.000000  \n",
              "max         1.000000       1.000000       1.000000       1.000000  \n",
              "\n",
              "[8 rows x 77 columns]"
            ],
            "text/html": [
              "\n",
              "  <div id=\"df-540cf5f6-c825-471b-9622-1a5a03f0ce84\">\n",
              "    <div class=\"colab-df-container\">\n",
              "      <div>\n",
              "<style scoped>\n",
              "    .dataframe tbody tr th:only-of-type {\n",
              "        vertical-align: middle;\n",
              "    }\n",
              "\n",
              "    .dataframe tbody tr th {\n",
              "        vertical-align: top;\n",
              "    }\n",
              "\n",
              "    .dataframe thead th {\n",
              "        text-align: right;\n",
              "    }\n",
              "</style>\n",
              "<table border=\"1\" class=\"dataframe\">\n",
              "  <thead>\n",
              "    <tr style=\"text-align: right;\">\n",
              "      <th></th>\n",
              "      <th>eventid</th>\n",
              "      <th>iyear</th>\n",
              "      <th>imonth</th>\n",
              "      <th>iday</th>\n",
              "      <th>extended</th>\n",
              "      <th>country</th>\n",
              "      <th>region</th>\n",
              "      <th>latitude</th>\n",
              "      <th>longitude</th>\n",
              "      <th>specificity</th>\n",
              "      <th>...</th>\n",
              "      <th>ransomamt</th>\n",
              "      <th>ransomamtus</th>\n",
              "      <th>ransompaid</th>\n",
              "      <th>ransompaidus</th>\n",
              "      <th>hostkidoutcome</th>\n",
              "      <th>nreleased</th>\n",
              "      <th>INT_LOG</th>\n",
              "      <th>INT_IDEO</th>\n",
              "      <th>INT_MISC</th>\n",
              "      <th>INT_ANY</th>\n",
              "    </tr>\n",
              "  </thead>\n",
              "  <tbody>\n",
              "    <tr>\n",
              "      <th>count</th>\n",
              "      <td>1.816910e+05</td>\n",
              "      <td>181691.000000</td>\n",
              "      <td>181691.000000</td>\n",
              "      <td>181691.000000</td>\n",
              "      <td>181691.000000</td>\n",
              "      <td>181691.000000</td>\n",
              "      <td>181691.000000</td>\n",
              "      <td>177135.000000</td>\n",
              "      <td>1.771340e+05</td>\n",
              "      <td>181685.000000</td>\n",
              "      <td>...</td>\n",
              "      <td>1.350000e+03</td>\n",
              "      <td>5.630000e+02</td>\n",
              "      <td>7.740000e+02</td>\n",
              "      <td>552.000000</td>\n",
              "      <td>10991.000000</td>\n",
              "      <td>10400.000000</td>\n",
              "      <td>181691.000000</td>\n",
              "      <td>181691.000000</td>\n",
              "      <td>181691.000000</td>\n",
              "      <td>181691.000000</td>\n",
              "    </tr>\n",
              "    <tr>\n",
              "      <th>mean</th>\n",
              "      <td>2.002705e+11</td>\n",
              "      <td>2002.638997</td>\n",
              "      <td>6.467277</td>\n",
              "      <td>15.505644</td>\n",
              "      <td>0.045346</td>\n",
              "      <td>131.968501</td>\n",
              "      <td>7.160938</td>\n",
              "      <td>23.498343</td>\n",
              "      <td>-4.586957e+02</td>\n",
              "      <td>1.451452</td>\n",
              "      <td>...</td>\n",
              "      <td>3.172530e+06</td>\n",
              "      <td>5.784865e+05</td>\n",
              "      <td>7.179437e+05</td>\n",
              "      <td>240.378623</td>\n",
              "      <td>4.629242</td>\n",
              "      <td>-29.018269</td>\n",
              "      <td>-4.543731</td>\n",
              "      <td>-4.464398</td>\n",
              "      <td>0.090010</td>\n",
              "      <td>-3.945952</td>\n",
              "    </tr>\n",
              "    <tr>\n",
              "      <th>std</th>\n",
              "      <td>1.325957e+09</td>\n",
              "      <td>13.259430</td>\n",
              "      <td>3.388303</td>\n",
              "      <td>8.814045</td>\n",
              "      <td>0.208063</td>\n",
              "      <td>112.414535</td>\n",
              "      <td>2.933408</td>\n",
              "      <td>18.569242</td>\n",
              "      <td>2.047790e+05</td>\n",
              "      <td>0.995430</td>\n",
              "      <td>...</td>\n",
              "      <td>3.021157e+07</td>\n",
              "      <td>7.077924e+06</td>\n",
              "      <td>1.014392e+07</td>\n",
              "      <td>2940.967293</td>\n",
              "      <td>2.035360</td>\n",
              "      <td>65.720119</td>\n",
              "      <td>4.543547</td>\n",
              "      <td>4.637152</td>\n",
              "      <td>0.568457</td>\n",
              "      <td>4.691325</td>\n",
              "    </tr>\n",
              "    <tr>\n",
              "      <th>min</th>\n",
              "      <td>1.970000e+11</td>\n",
              "      <td>1970.000000</td>\n",
              "      <td>0.000000</td>\n",
              "      <td>0.000000</td>\n",
              "      <td>0.000000</td>\n",
              "      <td>4.000000</td>\n",
              "      <td>1.000000</td>\n",
              "      <td>-53.154613</td>\n",
              "      <td>-8.618590e+07</td>\n",
              "      <td>1.000000</td>\n",
              "      <td>...</td>\n",
              "      <td>-9.900000e+01</td>\n",
              "      <td>-9.900000e+01</td>\n",
              "      <td>-9.900000e+01</td>\n",
              "      <td>-99.000000</td>\n",
              "      <td>1.000000</td>\n",
              "      <td>-99.000000</td>\n",
              "      <td>-9.000000</td>\n",
              "      <td>-9.000000</td>\n",
              "      <td>-9.000000</td>\n",
              "      <td>-9.000000</td>\n",
              "    </tr>\n",
              "    <tr>\n",
              "      <th>25%</th>\n",
              "      <td>1.991021e+11</td>\n",
              "      <td>1991.000000</td>\n",
              "      <td>4.000000</td>\n",
              "      <td>8.000000</td>\n",
              "      <td>0.000000</td>\n",
              "      <td>78.000000</td>\n",
              "      <td>5.000000</td>\n",
              "      <td>11.510046</td>\n",
              "      <td>4.545640e+00</td>\n",
              "      <td>1.000000</td>\n",
              "      <td>...</td>\n",
              "      <td>0.000000e+00</td>\n",
              "      <td>0.000000e+00</td>\n",
              "      <td>-9.900000e+01</td>\n",
              "      <td>0.000000</td>\n",
              "      <td>2.000000</td>\n",
              "      <td>-99.000000</td>\n",
              "      <td>-9.000000</td>\n",
              "      <td>-9.000000</td>\n",
              "      <td>0.000000</td>\n",
              "      <td>-9.000000</td>\n",
              "    </tr>\n",
              "    <tr>\n",
              "      <th>50%</th>\n",
              "      <td>2.009022e+11</td>\n",
              "      <td>2009.000000</td>\n",
              "      <td>6.000000</td>\n",
              "      <td>15.000000</td>\n",
              "      <td>0.000000</td>\n",
              "      <td>98.000000</td>\n",
              "      <td>6.000000</td>\n",
              "      <td>31.467463</td>\n",
              "      <td>4.324651e+01</td>\n",
              "      <td>1.000000</td>\n",
              "      <td>...</td>\n",
              "      <td>1.500000e+04</td>\n",
              "      <td>0.000000e+00</td>\n",
              "      <td>0.000000e+00</td>\n",
              "      <td>0.000000</td>\n",
              "      <td>4.000000</td>\n",
              "      <td>0.000000</td>\n",
              "      <td>-9.000000</td>\n",
              "      <td>-9.000000</td>\n",
              "      <td>0.000000</td>\n",
              "      <td>0.000000</td>\n",
              "    </tr>\n",
              "    <tr>\n",
              "      <th>75%</th>\n",
              "      <td>2.014081e+11</td>\n",
              "      <td>2014.000000</td>\n",
              "      <td>9.000000</td>\n",
              "      <td>23.000000</td>\n",
              "      <td>0.000000</td>\n",
              "      <td>160.000000</td>\n",
              "      <td>10.000000</td>\n",
              "      <td>34.685087</td>\n",
              "      <td>6.871033e+01</td>\n",
              "      <td>1.000000</td>\n",
              "      <td>...</td>\n",
              "      <td>4.000000e+05</td>\n",
              "      <td>0.000000e+00</td>\n",
              "      <td>1.273412e+03</td>\n",
              "      <td>0.000000</td>\n",
              "      <td>7.000000</td>\n",
              "      <td>1.000000</td>\n",
              "      <td>0.000000</td>\n",
              "      <td>0.000000</td>\n",
              "      <td>0.000000</td>\n",
              "      <td>0.000000</td>\n",
              "    </tr>\n",
              "    <tr>\n",
              "      <th>max</th>\n",
              "      <td>2.017123e+11</td>\n",
              "      <td>2017.000000</td>\n",
              "      <td>12.000000</td>\n",
              "      <td>31.000000</td>\n",
              "      <td>1.000000</td>\n",
              "      <td>1004.000000</td>\n",
              "      <td>12.000000</td>\n",
              "      <td>74.633553</td>\n",
              "      <td>1.793667e+02</td>\n",
              "      <td>5.000000</td>\n",
              "      <td>...</td>\n",
              "      <td>1.000000e+09</td>\n",
              "      <td>1.320000e+08</td>\n",
              "      <td>2.750000e+08</td>\n",
              "      <td>48000.000000</td>\n",
              "      <td>7.000000</td>\n",
              "      <td>2769.000000</td>\n",
              "      <td>1.000000</td>\n",
              "      <td>1.000000</td>\n",
              "      <td>1.000000</td>\n",
              "      <td>1.000000</td>\n",
              "    </tr>\n",
              "  </tbody>\n",
              "</table>\n",
              "<p>8 rows × 77 columns</p>\n",
              "</div>\n",
              "      <button class=\"colab-df-convert\" onclick=\"convertToInteractive('df-540cf5f6-c825-471b-9622-1a5a03f0ce84')\"\n",
              "              title=\"Convert this dataframe to an interactive table.\"\n",
              "              style=\"display:none;\">\n",
              "        \n",
              "  <svg xmlns=\"http://www.w3.org/2000/svg\" height=\"24px\"viewBox=\"0 0 24 24\"\n",
              "       width=\"24px\">\n",
              "    <path d=\"M0 0h24v24H0V0z\" fill=\"none\"/>\n",
              "    <path d=\"M18.56 5.44l.94 2.06.94-2.06 2.06-.94-2.06-.94-.94-2.06-.94 2.06-2.06.94zm-11 1L8.5 8.5l.94-2.06 2.06-.94-2.06-.94L8.5 2.5l-.94 2.06-2.06.94zm10 10l.94 2.06.94-2.06 2.06-.94-2.06-.94-.94-2.06-.94 2.06-2.06.94z\"/><path d=\"M17.41 7.96l-1.37-1.37c-.4-.4-.92-.59-1.43-.59-.52 0-1.04.2-1.43.59L10.3 9.45l-7.72 7.72c-.78.78-.78 2.05 0 2.83L4 21.41c.39.39.9.59 1.41.59.51 0 1.02-.2 1.41-.59l7.78-7.78 2.81-2.81c.8-.78.8-2.07 0-2.86zM5.41 20L4 18.59l7.72-7.72 1.47 1.35L5.41 20z\"/>\n",
              "  </svg>\n",
              "      </button>\n",
              "      \n",
              "  <style>\n",
              "    .colab-df-container {\n",
              "      display:flex;\n",
              "      flex-wrap:wrap;\n",
              "      gap: 12px;\n",
              "    }\n",
              "\n",
              "    .colab-df-convert {\n",
              "      background-color: #E8F0FE;\n",
              "      border: none;\n",
              "      border-radius: 50%;\n",
              "      cursor: pointer;\n",
              "      display: none;\n",
              "      fill: #1967D2;\n",
              "      height: 32px;\n",
              "      padding: 0 0 0 0;\n",
              "      width: 32px;\n",
              "    }\n",
              "\n",
              "    .colab-df-convert:hover {\n",
              "      background-color: #E2EBFA;\n",
              "      box-shadow: 0px 1px 2px rgba(60, 64, 67, 0.3), 0px 1px 3px 1px rgba(60, 64, 67, 0.15);\n",
              "      fill: #174EA6;\n",
              "    }\n",
              "\n",
              "    [theme=dark] .colab-df-convert {\n",
              "      background-color: #3B4455;\n",
              "      fill: #D2E3FC;\n",
              "    }\n",
              "\n",
              "    [theme=dark] .colab-df-convert:hover {\n",
              "      background-color: #434B5C;\n",
              "      box-shadow: 0px 1px 3px 1px rgba(0, 0, 0, 0.15);\n",
              "      filter: drop-shadow(0px 1px 2px rgba(0, 0, 0, 0.3));\n",
              "      fill: #FFFFFF;\n",
              "    }\n",
              "  </style>\n",
              "\n",
              "      <script>\n",
              "        const buttonEl =\n",
              "          document.querySelector('#df-540cf5f6-c825-471b-9622-1a5a03f0ce84 button.colab-df-convert');\n",
              "        buttonEl.style.display =\n",
              "          google.colab.kernel.accessAllowed ? 'block' : 'none';\n",
              "\n",
              "        async function convertToInteractive(key) {\n",
              "          const element = document.querySelector('#df-540cf5f6-c825-471b-9622-1a5a03f0ce84');\n",
              "          const dataTable =\n",
              "            await google.colab.kernel.invokeFunction('convertToInteractive',\n",
              "                                                     [key], {});\n",
              "          if (!dataTable) return;\n",
              "\n",
              "          const docLinkHtml = 'Like what you see? Visit the ' +\n",
              "            '<a target=\"_blank\" href=https://colab.research.google.com/notebooks/data_table.ipynb>data table notebook</a>'\n",
              "            + ' to learn more about interactive tables.';\n",
              "          element.innerHTML = '';\n",
              "          dataTable['output_type'] = 'display_data';\n",
              "          await google.colab.output.renderOutput(dataTable, element);\n",
              "          const docLink = document.createElement('div');\n",
              "          docLink.innerHTML = docLinkHtml;\n",
              "          element.appendChild(docLink);\n",
              "        }\n",
              "      </script>\n",
              "    </div>\n",
              "  </div>\n",
              "  "
            ]
          },
          "metadata": {},
          "execution_count": 8
        }
      ]
    },
    {
      "cell_type": "code",
      "source": [
        "# names of features(columns) in our data set \n",
        "for col in df.columns:\n",
        "  print(col,end=' ; ')\n",
        "  "
      ],
      "metadata": {
        "colab": {
          "base_uri": "https://localhost:8080/"
        },
        "id": "S5ttIyPPok6s",
        "outputId": "1fde55fd-e006-4366-8a0b-eddb201726a6"
      },
      "execution_count": 9,
      "outputs": [
        {
          "output_type": "stream",
          "name": "stdout",
          "text": [
            "eventid ; iyear ; imonth ; iday ; approxdate ; extended ; resolution ; country ; country_txt ; region ; region_txt ; provstate ; city ; latitude ; longitude ; specificity ; vicinity ; location ; summary ; crit1 ; crit2 ; crit3 ; doubtterr ; alternative ; alternative_txt ; multiple ; success ; suicide ; attacktype1 ; attacktype1_txt ; attacktype2 ; attacktype2_txt ; attacktype3 ; attacktype3_txt ; targtype1 ; targtype1_txt ; targsubtype1 ; targsubtype1_txt ; corp1 ; target1 ; natlty1 ; natlty1_txt ; targtype2 ; targtype2_txt ; targsubtype2 ; targsubtype2_txt ; corp2 ; target2 ; natlty2 ; natlty2_txt ; targtype3 ; targtype3_txt ; targsubtype3 ; targsubtype3_txt ; corp3 ; target3 ; natlty3 ; natlty3_txt ; gname ; gsubname ; gname2 ; gsubname2 ; gname3 ; gsubname3 ; motive ; guncertain1 ; guncertain2 ; guncertain3 ; individual ; nperps ; nperpcap ; claimed ; claimmode ; claimmode_txt ; claim2 ; claimmode2 ; claimmode2_txt ; claim3 ; claimmode3 ; claimmode3_txt ; compclaim ; weaptype1 ; weaptype1_txt ; weapsubtype1 ; weapsubtype1_txt ; weaptype2 ; weaptype2_txt ; weapsubtype2 ; weapsubtype2_txt ; weaptype3 ; weaptype3_txt ; weapsubtype3 ; weapsubtype3_txt ; weaptype4 ; weaptype4_txt ; weapsubtype4 ; weapsubtype4_txt ; weapdetail ; nkill ; nkillus ; nkillter ; nwound ; nwoundus ; nwoundte ; property ; propextent ; propextent_txt ; propvalue ; propcomment ; ishostkid ; nhostkid ; nhostkidus ; nhours ; ndays ; divert ; kidhijcountry ; ransom ; ransomamt ; ransomamtus ; ransompaid ; ransompaidus ; ransomnote ; hostkidoutcome ; hostkidoutcome_txt ; nreleased ; addnotes ; scite1 ; scite2 ; scite3 ; dbsource ; INT_LOG ; INT_IDEO ; INT_MISC ; INT_ANY ; related ; "
          ]
        }
      ]
    },
    {
      "cell_type": "code",
      "source": [
        "print(df.columns.to_list())"
      ],
      "metadata": {
        "colab": {
          "base_uri": "https://localhost:8080/"
        },
        "id": "Qdd-NpanszXz",
        "outputId": "fbbbe2d6-0566-472f-f2a6-87fd9170388a"
      },
      "execution_count": 10,
      "outputs": [
        {
          "output_type": "stream",
          "name": "stdout",
          "text": [
            "['eventid', 'iyear', 'imonth', 'iday', 'approxdate', 'extended', 'resolution', 'country', 'country_txt', 'region', 'region_txt', 'provstate', 'city', 'latitude', 'longitude', 'specificity', 'vicinity', 'location', 'summary', 'crit1', 'crit2', 'crit3', 'doubtterr', 'alternative', 'alternative_txt', 'multiple', 'success', 'suicide', 'attacktype1', 'attacktype1_txt', 'attacktype2', 'attacktype2_txt', 'attacktype3', 'attacktype3_txt', 'targtype1', 'targtype1_txt', 'targsubtype1', 'targsubtype1_txt', 'corp1', 'target1', 'natlty1', 'natlty1_txt', 'targtype2', 'targtype2_txt', 'targsubtype2', 'targsubtype2_txt', 'corp2', 'target2', 'natlty2', 'natlty2_txt', 'targtype3', 'targtype3_txt', 'targsubtype3', 'targsubtype3_txt', 'corp3', 'target3', 'natlty3', 'natlty3_txt', 'gname', 'gsubname', 'gname2', 'gsubname2', 'gname3', 'gsubname3', 'motive', 'guncertain1', 'guncertain2', 'guncertain3', 'individual', 'nperps', 'nperpcap', 'claimed', 'claimmode', 'claimmode_txt', 'claim2', 'claimmode2', 'claimmode2_txt', 'claim3', 'claimmode3', 'claimmode3_txt', 'compclaim', 'weaptype1', 'weaptype1_txt', 'weapsubtype1', 'weapsubtype1_txt', 'weaptype2', 'weaptype2_txt', 'weapsubtype2', 'weapsubtype2_txt', 'weaptype3', 'weaptype3_txt', 'weapsubtype3', 'weapsubtype3_txt', 'weaptype4', 'weaptype4_txt', 'weapsubtype4', 'weapsubtype4_txt', 'weapdetail', 'nkill', 'nkillus', 'nkillter', 'nwound', 'nwoundus', 'nwoundte', 'property', 'propextent', 'propextent_txt', 'propvalue', 'propcomment', 'ishostkid', 'nhostkid', 'nhostkidus', 'nhours', 'ndays', 'divert', 'kidhijcountry', 'ransom', 'ransomamt', 'ransomamtus', 'ransompaid', 'ransompaidus', 'ransomnote', 'hostkidoutcome', 'hostkidoutcome_txt', 'nreleased', 'addnotes', 'scite1', 'scite2', 'scite3', 'dbsource', 'INT_LOG', 'INT_IDEO', 'INT_MISC', 'INT_ANY', 'related']\n"
          ]
        }
      ]
    },
    {
      "cell_type": "code",
      "source": [
        "# finding duplicate rows\n",
        "df.duplicated().value_counts()"
      ],
      "metadata": {
        "colab": {
          "base_uri": "https://localhost:8080/"
        },
        "id": "X-qUKt0CvPya",
        "outputId": "1685d43d-e301-4bec-d6bc-cb872e47ec9d"
      },
      "execution_count": 11,
      "outputs": [
        {
          "output_type": "execute_result",
          "data": {
            "text/plain": [
              "False    181691\n",
              "dtype: int64"
            ]
          },
          "metadata": {},
          "execution_count": 11
        }
      ]
    },
    {
      "cell_type": "markdown",
      "source": [
        "## All rows are unique"
      ],
      "metadata": {
        "id": "hK8kNFl8wLDA"
      }
    },
    {
      "cell_type": "code",
      "source": [
        "df['nkill'].sum()"
      ],
      "metadata": {
        "colab": {
          "base_uri": "https://localhost:8080/"
        },
        "id": "oLP2OnkiwHi7",
        "outputId": "e5a48be0-0490-448c-8833-51a2f7786e5d"
      },
      "execution_count": 12,
      "outputs": [
        {
          "output_type": "execute_result",
          "data": {
            "text/plain": [
              "411868.0"
            ]
          },
          "metadata": {},
          "execution_count": 12
        }
      ]
    },
    {
      "cell_type": "code",
      "source": [
        "# 'nkillus' : the number us people dies\n",
        "df['nkillus'].value_counts()"
      ],
      "metadata": {
        "colab": {
          "base_uri": "https://localhost:8080/"
        },
        "id": "B3IQWFrlxWGK",
        "outputId": "00c35f3a-b22a-4f0a-c877-9333c5b98715"
      },
      "execution_count": 13,
      "outputs": [
        {
          "output_type": "execute_result",
          "data": {
            "text/plain": [
              "0.0       116344\n",
              "1.0          589\n",
              "2.0          159\n",
              "3.0           53\n",
              "4.0           32\n",
              "5.0           20\n",
              "6.0           12\n",
              "7.0            4\n",
              "15.0           3\n",
              "9.0            3\n",
              "17.0           3\n",
              "13.0           2\n",
              "60.0           2\n",
              "8.0            2\n",
              "20.0           1\n",
              "1327.0         1\n",
              "16.0           1\n",
              "14.0           1\n",
              "10.0           1\n",
              "38.0           1\n",
              "182.0          1\n",
              "168.0          1\n",
              "1360.0         1\n",
              "12.0           1\n",
              "19.0           1\n",
              "189.0          1\n",
              "31.0           1\n",
              "241.0          1\n",
              "11.0           1\n",
              "30.0           1\n",
              "44.0           1\n",
              "Name: nkillus, dtype: int64"
            ]
          },
          "metadata": {},
          "execution_count": 13
        }
      ]
    },
    {
      "cell_type": "code",
      "source": [
        "# 'nkill' : the total number of fatalities including 'US' citizens\n",
        "df['nkill'].value_counts()"
      ],
      "metadata": {
        "colab": {
          "base_uri": "https://localhost:8080/"
        },
        "id": "SeYX7nRzxgTw",
        "outputId": "8b6aab10-3314-49a0-b41c-a8396fba81d5"
      },
      "execution_count": 14,
      "outputs": [
        {
          "output_type": "execute_result",
          "data": {
            "text/plain": [
              "0.0      88149\n",
              "1.0      36576\n",
              "2.0      14147\n",
              "3.0       7738\n",
              "4.0       4961\n",
              "         ...  \n",
              "275.0        1\n",
              "320.0        1\n",
              "104.0        1\n",
              "271.0        1\n",
              "311.0        1\n",
              "Name: nkill, Length: 205, dtype: int64"
            ]
          },
          "metadata": {},
          "execution_count": 14
        }
      ]
    },
    {
      "cell_type": "code",
      "source": [
        "# number of times a country appeared in our data set (number of times atttacks placed in that country)\n",
        "df['country_txt'].value_counts()"
      ],
      "metadata": {
        "colab": {
          "base_uri": "https://localhost:8080/"
        },
        "id": "JRVW_OW6xwbM",
        "outputId": "5bfe8980-00da-47f9-cf47-29c6699bc1e8"
      },
      "execution_count": 15,
      "outputs": [
        {
          "output_type": "execute_result",
          "data": {
            "text/plain": [
              "Iraq                   24636\n",
              "Pakistan               14368\n",
              "Afghanistan            12731\n",
              "India                  11960\n",
              "Colombia                8306\n",
              "                       ...  \n",
              "International              1\n",
              "Wallis and Futuna          1\n",
              "South Vietnam              1\n",
              "Andorra                    1\n",
              "Antigua and Barbuda        1\n",
              "Name: country_txt, Length: 205, dtype: int64"
            ]
          },
          "metadata": {},
          "execution_count": 15
        }
      ]
    },
    {
      "cell_type": "markdown",
      "source": [
        "## The Most number of terrorist attacks happened in Iraq then followed by Pakistan, Afghanistan, India and Colombia."
      ],
      "metadata": {
        "id": "W2HgWV2C2K-I"
      }
    },
    {
      "cell_type": "code",
      "source": [
        "# the active terrorist groups\n",
        "df['gname'].value_counts()"
      ],
      "metadata": {
        "colab": {
          "base_uri": "https://localhost:8080/"
        },
        "id": "30HZNHp-zJow",
        "outputId": "f373bef5-6813-47fa-809c-77b155200a74"
      },
      "execution_count": 16,
      "outputs": [
        {
          "output_type": "execute_result",
          "data": {
            "text/plain": [
              "Unknown                                             82782\n",
              "Taliban                                              7478\n",
              "Islamic State of Iraq and the Levant (ISIL)          5613\n",
              "Shining Path (SL)                                    4555\n",
              "Farabundo Marti National Liberation Front (FMLN)     3351\n",
              "                                                    ...  \n",
              "Ansar Sarallah                                          1\n",
              "Sword of Islam                                          1\n",
              "Support of Ocalan-The Hawks of Thrace                   1\n",
              "Arab Revolutionary Front                                1\n",
              "MANO-D                                                  1\n",
              "Name: gname, Length: 3537, dtype: int64"
            ]
          },
          "metadata": {},
          "execution_count": 16
        }
      ]
    },
    {
      "cell_type": "code",
      "source": [
        "print(f\"The most active terrorist group in the world is {df['gname'].value_counts().index[1]}.\")"
      ],
      "metadata": {
        "colab": {
          "base_uri": "https://localhost:8080/"
        },
        "id": "ruetirv84eUo",
        "outputId": "9e487176-2115-4c2b-bfc2-70d6fa213d86"
      },
      "execution_count": 17,
      "outputs": [
        {
          "output_type": "stream",
          "name": "stdout",
          "text": [
            "The most active terrorist group in the world is Taliban.\n"
          ]
        }
      ]
    },
    {
      "cell_type": "code",
      "source": [
        "# the maximum number of people killed in an attack\n",
        "print(f\"The most number of people killed in an attack is {df['nkill'].max()}.\")"
      ],
      "metadata": {
        "colab": {
          "base_uri": "https://localhost:8080/"
        },
        "id": "b-fzBCiS42Yk",
        "outputId": "15487690-3cd6-4350-b35a-fc2c131f8b1a"
      },
      "execution_count": 18,
      "outputs": [
        {
          "output_type": "stream",
          "name": "stdout",
          "text": [
            "The most number of people killed in an attack is 1570.0.\n"
          ]
        }
      ]
    },
    {
      "cell_type": "code",
      "source": [
        "# number of terrorist attacks happened in each year from max to min number of times.\n",
        "df[\"iyear\"].value_counts()"
      ],
      "metadata": {
        "colab": {
          "base_uri": "https://localhost:8080/"
        },
        "id": "MeEluB-N5sA9",
        "outputId": "4553e785-9e34-4773-fc7e-88bf38e4431a"
      },
      "execution_count": 19,
      "outputs": [
        {
          "output_type": "execute_result",
          "data": {
            "text/plain": [
              "2014    16903\n",
              "2015    14965\n",
              "2016    13587\n",
              "2013    12036\n",
              "2017    10900\n",
              "2012     8522\n",
              "2011     5076\n",
              "1992     5071\n",
              "2010     4826\n",
              "2008     4805\n",
              "2009     4721\n",
              "1991     4683\n",
              "1989     4324\n",
              "1990     3887\n",
              "1988     3721\n",
              "1984     3495\n",
              "1994     3456\n",
              "2007     3242\n",
              "1997     3197\n",
              "1987     3183\n",
              "1995     3081\n",
              "1996     3058\n",
              "1985     2915\n",
              "1983     2870\n",
              "1986     2860\n",
              "2006     2758\n",
              "1979     2662\n",
              "1980     2662\n",
              "1981     2586\n",
              "1982     2544\n",
              "2005     2017\n",
              "2001     1906\n",
              "2000     1814\n",
              "1978     1526\n",
              "1999     1395\n",
              "2002     1333\n",
              "1977     1319\n",
              "2003     1278\n",
              "2004     1166\n",
              "1998      934\n",
              "1976      923\n",
              "1975      740\n",
              "1970      651\n",
              "1974      581\n",
              "1972      568\n",
              "1973      473\n",
              "1971      471\n",
              "Name: iyear, dtype: int64"
            ]
          },
          "metadata": {},
          "execution_count": 19
        }
      ]
    },
    {
      "cell_type": "code",
      "source": [
        "print(f\"Year with most number of terrorist attacks is : {df['iyear'].value_counts().idxmax()}\")"
      ],
      "metadata": {
        "colab": {
          "base_uri": "https://localhost:8080/"
        },
        "id": "0hPYFJFe6Iay",
        "outputId": "52439091-64bd-41f1-dd14-6ccab064a2c7"
      },
      "execution_count": 20,
      "outputs": [
        {
          "output_type": "stream",
          "name": "stdout",
          "text": [
            "Year with most number of terrorist attacks is : 2014\n"
          ]
        }
      ]
    },
    {
      "cell_type": "code",
      "source": [
        "print(f\"Year with least number of terrorist attacks is : {df['iyear'].value_counts().idxmin()}\")"
      ],
      "metadata": {
        "colab": {
          "base_uri": "https://localhost:8080/"
        },
        "id": "Kt4Q46FY6VRG",
        "outputId": "2c4fa296-4681-44d7-e123-ae7a183f09b5"
      },
      "execution_count": 21,
      "outputs": [
        {
          "output_type": "stream",
          "name": "stdout",
          "text": [
            "Year with least number of terrorist attacks is : 1971\n"
          ]
        }
      ]
    },
    {
      "cell_type": "code",
      "source": [
        "df['attacktype1_txt'].unique()"
      ],
      "metadata": {
        "colab": {
          "base_uri": "https://localhost:8080/"
        },
        "id": "61yyU7Lk7hcP",
        "outputId": "ded77f83-0e4d-4b47-9eb4-d8adcfc7525b"
      },
      "execution_count": 22,
      "outputs": [
        {
          "output_type": "execute_result",
          "data": {
            "text/plain": [
              "array(['Assassination', 'Hostage Taking (Kidnapping)',\n",
              "       'Bombing/Explosion', 'Facility/Infrastructure Attack',\n",
              "       'Armed Assault', 'Hijacking', 'Unknown', 'Unarmed Assault',\n",
              "       'Hostage Taking (Barricade Incident)'], dtype=object)"
            ]
          },
          "metadata": {},
          "execution_count": 22
        }
      ]
    },
    {
      "cell_type": "code",
      "source": [
        "df['attacktype1_txt'].value_counts()"
      ],
      "metadata": {
        "colab": {
          "base_uri": "https://localhost:8080/"
        },
        "id": "wYZDX05_75OJ",
        "outputId": "563a1a5b-e038-4398-a6e0-121053682ec4"
      },
      "execution_count": 23,
      "outputs": [
        {
          "output_type": "execute_result",
          "data": {
            "text/plain": [
              "Bombing/Explosion                      88255\n",
              "Armed Assault                          42669\n",
              "Assassination                          19312\n",
              "Hostage Taking (Kidnapping)            11158\n",
              "Facility/Infrastructure Attack         10356\n",
              "Unknown                                 7276\n",
              "Unarmed Assault                         1015\n",
              "Hostage Taking (Barricade Incident)      991\n",
              "Hijacking                                659\n",
              "Name: attacktype1_txt, dtype: int64"
            ]
          },
          "metadata": {},
          "execution_count": 23
        }
      ]
    },
    {
      "cell_type": "markdown",
      "source": [
        "## The most attack type done by terrorist is Bombing/Explosion."
      ],
      "metadata": {
        "id": "k0GDwJU28ObN"
      }
    },
    {
      "cell_type": "code",
      "source": [
        "# finding null values in country text\n",
        "df['country_txt'].isnull().value_counts()"
      ],
      "metadata": {
        "colab": {
          "base_uri": "https://localhost:8080/"
        },
        "id": "Hn-pFk648L6a",
        "outputId": "a66453ae-9053-4b6c-d504-856c12799f0b"
      },
      "execution_count": 24,
      "outputs": [
        {
          "output_type": "execute_result",
          "data": {
            "text/plain": [
              "False    181691\n",
              "Name: country_txt, dtype: int64"
            ]
          },
          "metadata": {},
          "execution_count": 24
        }
      ]
    },
    {
      "cell_type": "markdown",
      "source": [
        "## No null values in country_txt column\n",
        "\n",
        "\n",
        "---\n",
        "NaN and null value are interchangeble words in python language.\n"
      ],
      "metadata": {
        "id": "slqeT4Q8-b7H"
      }
    },
    {
      "cell_type": "markdown",
      "source": [
        "# There is a lot of data in this dataframe. So we can extract the data which is useful for our analysis. \n",
        "\n",
        "# If we want to rename some column names, we can so that the readers can understand the data by seeing the column name. \n",
        "\n",
        "# We had to check for null values in our data. And we had to handle those missing values and null values by removing them or by replacing them with appropriate values."
      ],
      "metadata": {
        "id": "eeWoDfiujynO"
      }
    },
    {
      "cell_type": "code",
      "source": [
        "# the whole 135 columns name in original dataframe\n",
        "print(df.columns.to_list())"
      ],
      "metadata": {
        "id": "R0EPT58l-U4H",
        "colab": {
          "base_uri": "https://localhost:8080/"
        },
        "outputId": "9182a6c6-4b3a-45c6-ad80-9a285dbadebc"
      },
      "execution_count": 25,
      "outputs": [
        {
          "output_type": "stream",
          "name": "stdout",
          "text": [
            "['eventid', 'iyear', 'imonth', 'iday', 'approxdate', 'extended', 'resolution', 'country', 'country_txt', 'region', 'region_txt', 'provstate', 'city', 'latitude', 'longitude', 'specificity', 'vicinity', 'location', 'summary', 'crit1', 'crit2', 'crit3', 'doubtterr', 'alternative', 'alternative_txt', 'multiple', 'success', 'suicide', 'attacktype1', 'attacktype1_txt', 'attacktype2', 'attacktype2_txt', 'attacktype3', 'attacktype3_txt', 'targtype1', 'targtype1_txt', 'targsubtype1', 'targsubtype1_txt', 'corp1', 'target1', 'natlty1', 'natlty1_txt', 'targtype2', 'targtype2_txt', 'targsubtype2', 'targsubtype2_txt', 'corp2', 'target2', 'natlty2', 'natlty2_txt', 'targtype3', 'targtype3_txt', 'targsubtype3', 'targsubtype3_txt', 'corp3', 'target3', 'natlty3', 'natlty3_txt', 'gname', 'gsubname', 'gname2', 'gsubname2', 'gname3', 'gsubname3', 'motive', 'guncertain1', 'guncertain2', 'guncertain3', 'individual', 'nperps', 'nperpcap', 'claimed', 'claimmode', 'claimmode_txt', 'claim2', 'claimmode2', 'claimmode2_txt', 'claim3', 'claimmode3', 'claimmode3_txt', 'compclaim', 'weaptype1', 'weaptype1_txt', 'weapsubtype1', 'weapsubtype1_txt', 'weaptype2', 'weaptype2_txt', 'weapsubtype2', 'weapsubtype2_txt', 'weaptype3', 'weaptype3_txt', 'weapsubtype3', 'weapsubtype3_txt', 'weaptype4', 'weaptype4_txt', 'weapsubtype4', 'weapsubtype4_txt', 'weapdetail', 'nkill', 'nkillus', 'nkillter', 'nwound', 'nwoundus', 'nwoundte', 'property', 'propextent', 'propextent_txt', 'propvalue', 'propcomment', 'ishostkid', 'nhostkid', 'nhostkidus', 'nhours', 'ndays', 'divert', 'kidhijcountry', 'ransom', 'ransomamt', 'ransomamtus', 'ransompaid', 'ransompaidus', 'ransomnote', 'hostkidoutcome', 'hostkidoutcome_txt', 'nreleased', 'addnotes', 'scite1', 'scite2', 'scite3', 'dbsource', 'INT_LOG', 'INT_IDEO', 'INT_MISC', 'INT_ANY', 'related']\n"
          ]
        }
      ]
    },
    {
      "cell_type": "code",
      "source": [
        "# first two rows\n",
        "df.head(2)"
      ],
      "metadata": {
        "colab": {
          "base_uri": "https://localhost:8080/",
          "height": 223
        },
        "id": "tOLVd4lWmX8-",
        "outputId": "5e9844dd-6b9c-4f6f-a9e6-b4ca2e1b2555"
      },
      "execution_count": 26,
      "outputs": [
        {
          "output_type": "execute_result",
          "data": {
            "text/plain": [
              "        eventid  iyear  imonth  iday approxdate  extended resolution  country  \\\n",
              "0  197000000001   1970       7     2        NaN         0        NaN       58   \n",
              "1  197000000002   1970       0     0        NaN         0        NaN      130   \n",
              "\n",
              "          country_txt  region  ... addnotes scite1 scite2  scite3  dbsource  \\\n",
              "0  Dominican Republic       2  ...      NaN    NaN    NaN     NaN      PGIS   \n",
              "1              Mexico       1  ...      NaN    NaN    NaN     NaN      PGIS   \n",
              "\n",
              "   INT_LOG  INT_IDEO INT_MISC INT_ANY  related  \n",
              "0        0         0        0       0      NaN  \n",
              "1        0         1        1       1      NaN  \n",
              "\n",
              "[2 rows x 135 columns]"
            ],
            "text/html": [
              "\n",
              "  <div id=\"df-a209cb0b-6cff-49f6-a844-a130419dd347\">\n",
              "    <div class=\"colab-df-container\">\n",
              "      <div>\n",
              "<style scoped>\n",
              "    .dataframe tbody tr th:only-of-type {\n",
              "        vertical-align: middle;\n",
              "    }\n",
              "\n",
              "    .dataframe tbody tr th {\n",
              "        vertical-align: top;\n",
              "    }\n",
              "\n",
              "    .dataframe thead th {\n",
              "        text-align: right;\n",
              "    }\n",
              "</style>\n",
              "<table border=\"1\" class=\"dataframe\">\n",
              "  <thead>\n",
              "    <tr style=\"text-align: right;\">\n",
              "      <th></th>\n",
              "      <th>eventid</th>\n",
              "      <th>iyear</th>\n",
              "      <th>imonth</th>\n",
              "      <th>iday</th>\n",
              "      <th>approxdate</th>\n",
              "      <th>extended</th>\n",
              "      <th>resolution</th>\n",
              "      <th>country</th>\n",
              "      <th>country_txt</th>\n",
              "      <th>region</th>\n",
              "      <th>...</th>\n",
              "      <th>addnotes</th>\n",
              "      <th>scite1</th>\n",
              "      <th>scite2</th>\n",
              "      <th>scite3</th>\n",
              "      <th>dbsource</th>\n",
              "      <th>INT_LOG</th>\n",
              "      <th>INT_IDEO</th>\n",
              "      <th>INT_MISC</th>\n",
              "      <th>INT_ANY</th>\n",
              "      <th>related</th>\n",
              "    </tr>\n",
              "  </thead>\n",
              "  <tbody>\n",
              "    <tr>\n",
              "      <th>0</th>\n",
              "      <td>197000000001</td>\n",
              "      <td>1970</td>\n",
              "      <td>7</td>\n",
              "      <td>2</td>\n",
              "      <td>NaN</td>\n",
              "      <td>0</td>\n",
              "      <td>NaN</td>\n",
              "      <td>58</td>\n",
              "      <td>Dominican Republic</td>\n",
              "      <td>2</td>\n",
              "      <td>...</td>\n",
              "      <td>NaN</td>\n",
              "      <td>NaN</td>\n",
              "      <td>NaN</td>\n",
              "      <td>NaN</td>\n",
              "      <td>PGIS</td>\n",
              "      <td>0</td>\n",
              "      <td>0</td>\n",
              "      <td>0</td>\n",
              "      <td>0</td>\n",
              "      <td>NaN</td>\n",
              "    </tr>\n",
              "    <tr>\n",
              "      <th>1</th>\n",
              "      <td>197000000002</td>\n",
              "      <td>1970</td>\n",
              "      <td>0</td>\n",
              "      <td>0</td>\n",
              "      <td>NaN</td>\n",
              "      <td>0</td>\n",
              "      <td>NaN</td>\n",
              "      <td>130</td>\n",
              "      <td>Mexico</td>\n",
              "      <td>1</td>\n",
              "      <td>...</td>\n",
              "      <td>NaN</td>\n",
              "      <td>NaN</td>\n",
              "      <td>NaN</td>\n",
              "      <td>NaN</td>\n",
              "      <td>PGIS</td>\n",
              "      <td>0</td>\n",
              "      <td>1</td>\n",
              "      <td>1</td>\n",
              "      <td>1</td>\n",
              "      <td>NaN</td>\n",
              "    </tr>\n",
              "  </tbody>\n",
              "</table>\n",
              "<p>2 rows × 135 columns</p>\n",
              "</div>\n",
              "      <button class=\"colab-df-convert\" onclick=\"convertToInteractive('df-a209cb0b-6cff-49f6-a844-a130419dd347')\"\n",
              "              title=\"Convert this dataframe to an interactive table.\"\n",
              "              style=\"display:none;\">\n",
              "        \n",
              "  <svg xmlns=\"http://www.w3.org/2000/svg\" height=\"24px\"viewBox=\"0 0 24 24\"\n",
              "       width=\"24px\">\n",
              "    <path d=\"M0 0h24v24H0V0z\" fill=\"none\"/>\n",
              "    <path d=\"M18.56 5.44l.94 2.06.94-2.06 2.06-.94-2.06-.94-.94-2.06-.94 2.06-2.06.94zm-11 1L8.5 8.5l.94-2.06 2.06-.94-2.06-.94L8.5 2.5l-.94 2.06-2.06.94zm10 10l.94 2.06.94-2.06 2.06-.94-2.06-.94-.94-2.06-.94 2.06-2.06.94z\"/><path d=\"M17.41 7.96l-1.37-1.37c-.4-.4-.92-.59-1.43-.59-.52 0-1.04.2-1.43.59L10.3 9.45l-7.72 7.72c-.78.78-.78 2.05 0 2.83L4 21.41c.39.39.9.59 1.41.59.51 0 1.02-.2 1.41-.59l7.78-7.78 2.81-2.81c.8-.78.8-2.07 0-2.86zM5.41 20L4 18.59l7.72-7.72 1.47 1.35L5.41 20z\"/>\n",
              "  </svg>\n",
              "      </button>\n",
              "      \n",
              "  <style>\n",
              "    .colab-df-container {\n",
              "      display:flex;\n",
              "      flex-wrap:wrap;\n",
              "      gap: 12px;\n",
              "    }\n",
              "\n",
              "    .colab-df-convert {\n",
              "      background-color: #E8F0FE;\n",
              "      border: none;\n",
              "      border-radius: 50%;\n",
              "      cursor: pointer;\n",
              "      display: none;\n",
              "      fill: #1967D2;\n",
              "      height: 32px;\n",
              "      padding: 0 0 0 0;\n",
              "      width: 32px;\n",
              "    }\n",
              "\n",
              "    .colab-df-convert:hover {\n",
              "      background-color: #E2EBFA;\n",
              "      box-shadow: 0px 1px 2px rgba(60, 64, 67, 0.3), 0px 1px 3px 1px rgba(60, 64, 67, 0.15);\n",
              "      fill: #174EA6;\n",
              "    }\n",
              "\n",
              "    [theme=dark] .colab-df-convert {\n",
              "      background-color: #3B4455;\n",
              "      fill: #D2E3FC;\n",
              "    }\n",
              "\n",
              "    [theme=dark] .colab-df-convert:hover {\n",
              "      background-color: #434B5C;\n",
              "      box-shadow: 0px 1px 3px 1px rgba(0, 0, 0, 0.15);\n",
              "      filter: drop-shadow(0px 1px 2px rgba(0, 0, 0, 0.3));\n",
              "      fill: #FFFFFF;\n",
              "    }\n",
              "  </style>\n",
              "\n",
              "      <script>\n",
              "        const buttonEl =\n",
              "          document.querySelector('#df-a209cb0b-6cff-49f6-a844-a130419dd347 button.colab-df-convert');\n",
              "        buttonEl.style.display =\n",
              "          google.colab.kernel.accessAllowed ? 'block' : 'none';\n",
              "\n",
              "        async function convertToInteractive(key) {\n",
              "          const element = document.querySelector('#df-a209cb0b-6cff-49f6-a844-a130419dd347');\n",
              "          const dataTable =\n",
              "            await google.colab.kernel.invokeFunction('convertToInteractive',\n",
              "                                                     [key], {});\n",
              "          if (!dataTable) return;\n",
              "\n",
              "          const docLinkHtml = 'Like what you see? Visit the ' +\n",
              "            '<a target=\"_blank\" href=https://colab.research.google.com/notebooks/data_table.ipynb>data table notebook</a>'\n",
              "            + ' to learn more about interactive tables.';\n",
              "          element.innerHTML = '';\n",
              "          dataTable['output_type'] = 'display_data';\n",
              "          await google.colab.output.renderOutput(dataTable, element);\n",
              "          const docLink = document.createElement('div');\n",
              "          docLink.innerHTML = docLinkHtml;\n",
              "          element.appendChild(docLink);\n",
              "        }\n",
              "      </script>\n",
              "    </div>\n",
              "  </div>\n",
              "  "
            ]
          },
          "metadata": {},
          "execution_count": 26
        }
      ]
    },
    {
      "cell_type": "code",
      "source": [
        "# extracting important features(columns) to create new data frame for EDA\n",
        "new_df=df[['iyear', 'imonth', 'iday', 'country_txt', 'region_txt', 'provstate', 'city',  'latitude', 'longitude', 'summary', 'attacktype1_txt', 'targtype1_txt', 'gname', 'weaptype1_txt', 'nkill', 'nwound']]"
      ],
      "metadata": {
        "id": "1tVuUTt0oUgg"
      },
      "execution_count": 68,
      "outputs": []
    },
    {
      "cell_type": "code",
      "source": [
        "# Renaming columns name for better understanding\n",
        "new_df.rename(columns={'iyear':'Year', 'imonth':'Month', 'iday':'Day', 'country_txt':'Country', 'region_txt':\"Region\", 'provstate':'State', 'city':'City',\n",
        "                       'latitude':'Latitude', 'longitude':'Longitude', 'summary':'Summary', 'attacktype1_txt':'Attack_Type', 'targtype1_txt':'Target_Type', 'gname':'Group',\n",
        "                       'weaptype1_txt':'Weapon_Type', 'nkill':'Killed', 'nwound':'Wounded'},inplace=True)"
      ],
      "metadata": {
        "id": "NeIWYr4psqpM"
      },
      "execution_count": 69,
      "outputs": []
    },
    {
      "cell_type": "code",
      "source": [
        "# summary about new data frame\n",
        "new_df.describe()"
      ],
      "metadata": {
        "colab": {
          "base_uri": "https://localhost:8080/",
          "height": 300
        },
        "id": "kexizkI8minS",
        "outputId": "a512e537-4d53-4483-a6e4-fcb97080aee4"
      },
      "execution_count": 70,
      "outputs": [
        {
          "output_type": "execute_result",
          "data": {
            "text/plain": [
              "                Year          Month            Day       Latitude  \\\n",
              "count  181691.000000  181691.000000  181691.000000  177135.000000   \n",
              "mean     2002.638997       6.467277      15.505644      23.498343   \n",
              "std        13.259430       3.388303       8.814045      18.569242   \n",
              "min      1970.000000       0.000000       0.000000     -53.154613   \n",
              "25%      1991.000000       4.000000       8.000000      11.510046   \n",
              "50%      2009.000000       6.000000      15.000000      31.467463   \n",
              "75%      2014.000000       9.000000      23.000000      34.685087   \n",
              "max      2017.000000      12.000000      31.000000      74.633553   \n",
              "\n",
              "          Longitude         Killed        Wounded  \n",
              "count  1.771340e+05  171378.000000  165380.000000  \n",
              "mean  -4.586957e+02       2.403272       3.167668  \n",
              "std    2.047790e+05      11.545741      35.949392  \n",
              "min   -8.618590e+07       0.000000       0.000000  \n",
              "25%    4.545640e+00       0.000000       0.000000  \n",
              "50%    4.324651e+01       0.000000       0.000000  \n",
              "75%    6.871033e+01       2.000000       2.000000  \n",
              "max    1.793667e+02    1570.000000    8191.000000  "
            ],
            "text/html": [
              "\n",
              "  <div id=\"df-e3e374f8-70b7-409d-879a-f84d72e90176\">\n",
              "    <div class=\"colab-df-container\">\n",
              "      <div>\n",
              "<style scoped>\n",
              "    .dataframe tbody tr th:only-of-type {\n",
              "        vertical-align: middle;\n",
              "    }\n",
              "\n",
              "    .dataframe tbody tr th {\n",
              "        vertical-align: top;\n",
              "    }\n",
              "\n",
              "    .dataframe thead th {\n",
              "        text-align: right;\n",
              "    }\n",
              "</style>\n",
              "<table border=\"1\" class=\"dataframe\">\n",
              "  <thead>\n",
              "    <tr style=\"text-align: right;\">\n",
              "      <th></th>\n",
              "      <th>Year</th>\n",
              "      <th>Month</th>\n",
              "      <th>Day</th>\n",
              "      <th>Latitude</th>\n",
              "      <th>Longitude</th>\n",
              "      <th>Killed</th>\n",
              "      <th>Wounded</th>\n",
              "    </tr>\n",
              "  </thead>\n",
              "  <tbody>\n",
              "    <tr>\n",
              "      <th>count</th>\n",
              "      <td>181691.000000</td>\n",
              "      <td>181691.000000</td>\n",
              "      <td>181691.000000</td>\n",
              "      <td>177135.000000</td>\n",
              "      <td>1.771340e+05</td>\n",
              "      <td>171378.000000</td>\n",
              "      <td>165380.000000</td>\n",
              "    </tr>\n",
              "    <tr>\n",
              "      <th>mean</th>\n",
              "      <td>2002.638997</td>\n",
              "      <td>6.467277</td>\n",
              "      <td>15.505644</td>\n",
              "      <td>23.498343</td>\n",
              "      <td>-4.586957e+02</td>\n",
              "      <td>2.403272</td>\n",
              "      <td>3.167668</td>\n",
              "    </tr>\n",
              "    <tr>\n",
              "      <th>std</th>\n",
              "      <td>13.259430</td>\n",
              "      <td>3.388303</td>\n",
              "      <td>8.814045</td>\n",
              "      <td>18.569242</td>\n",
              "      <td>2.047790e+05</td>\n",
              "      <td>11.545741</td>\n",
              "      <td>35.949392</td>\n",
              "    </tr>\n",
              "    <tr>\n",
              "      <th>min</th>\n",
              "      <td>1970.000000</td>\n",
              "      <td>0.000000</td>\n",
              "      <td>0.000000</td>\n",
              "      <td>-53.154613</td>\n",
              "      <td>-8.618590e+07</td>\n",
              "      <td>0.000000</td>\n",
              "      <td>0.000000</td>\n",
              "    </tr>\n",
              "    <tr>\n",
              "      <th>25%</th>\n",
              "      <td>1991.000000</td>\n",
              "      <td>4.000000</td>\n",
              "      <td>8.000000</td>\n",
              "      <td>11.510046</td>\n",
              "      <td>4.545640e+00</td>\n",
              "      <td>0.000000</td>\n",
              "      <td>0.000000</td>\n",
              "    </tr>\n",
              "    <tr>\n",
              "      <th>50%</th>\n",
              "      <td>2009.000000</td>\n",
              "      <td>6.000000</td>\n",
              "      <td>15.000000</td>\n",
              "      <td>31.467463</td>\n",
              "      <td>4.324651e+01</td>\n",
              "      <td>0.000000</td>\n",
              "      <td>0.000000</td>\n",
              "    </tr>\n",
              "    <tr>\n",
              "      <th>75%</th>\n",
              "      <td>2014.000000</td>\n",
              "      <td>9.000000</td>\n",
              "      <td>23.000000</td>\n",
              "      <td>34.685087</td>\n",
              "      <td>6.871033e+01</td>\n",
              "      <td>2.000000</td>\n",
              "      <td>2.000000</td>\n",
              "    </tr>\n",
              "    <tr>\n",
              "      <th>max</th>\n",
              "      <td>2017.000000</td>\n",
              "      <td>12.000000</td>\n",
              "      <td>31.000000</td>\n",
              "      <td>74.633553</td>\n",
              "      <td>1.793667e+02</td>\n",
              "      <td>1570.000000</td>\n",
              "      <td>8191.000000</td>\n",
              "    </tr>\n",
              "  </tbody>\n",
              "</table>\n",
              "</div>\n",
              "      <button class=\"colab-df-convert\" onclick=\"convertToInteractive('df-e3e374f8-70b7-409d-879a-f84d72e90176')\"\n",
              "              title=\"Convert this dataframe to an interactive table.\"\n",
              "              style=\"display:none;\">\n",
              "        \n",
              "  <svg xmlns=\"http://www.w3.org/2000/svg\" height=\"24px\"viewBox=\"0 0 24 24\"\n",
              "       width=\"24px\">\n",
              "    <path d=\"M0 0h24v24H0V0z\" fill=\"none\"/>\n",
              "    <path d=\"M18.56 5.44l.94 2.06.94-2.06 2.06-.94-2.06-.94-.94-2.06-.94 2.06-2.06.94zm-11 1L8.5 8.5l.94-2.06 2.06-.94-2.06-.94L8.5 2.5l-.94 2.06-2.06.94zm10 10l.94 2.06.94-2.06 2.06-.94-2.06-.94-.94-2.06-.94 2.06-2.06.94z\"/><path d=\"M17.41 7.96l-1.37-1.37c-.4-.4-.92-.59-1.43-.59-.52 0-1.04.2-1.43.59L10.3 9.45l-7.72 7.72c-.78.78-.78 2.05 0 2.83L4 21.41c.39.39.9.59 1.41.59.51 0 1.02-.2 1.41-.59l7.78-7.78 2.81-2.81c.8-.78.8-2.07 0-2.86zM5.41 20L4 18.59l7.72-7.72 1.47 1.35L5.41 20z\"/>\n",
              "  </svg>\n",
              "      </button>\n",
              "      \n",
              "  <style>\n",
              "    .colab-df-container {\n",
              "      display:flex;\n",
              "      flex-wrap:wrap;\n",
              "      gap: 12px;\n",
              "    }\n",
              "\n",
              "    .colab-df-convert {\n",
              "      background-color: #E8F0FE;\n",
              "      border: none;\n",
              "      border-radius: 50%;\n",
              "      cursor: pointer;\n",
              "      display: none;\n",
              "      fill: #1967D2;\n",
              "      height: 32px;\n",
              "      padding: 0 0 0 0;\n",
              "      width: 32px;\n",
              "    }\n",
              "\n",
              "    .colab-df-convert:hover {\n",
              "      background-color: #E2EBFA;\n",
              "      box-shadow: 0px 1px 2px rgba(60, 64, 67, 0.3), 0px 1px 3px 1px rgba(60, 64, 67, 0.15);\n",
              "      fill: #174EA6;\n",
              "    }\n",
              "\n",
              "    [theme=dark] .colab-df-convert {\n",
              "      background-color: #3B4455;\n",
              "      fill: #D2E3FC;\n",
              "    }\n",
              "\n",
              "    [theme=dark] .colab-df-convert:hover {\n",
              "      background-color: #434B5C;\n",
              "      box-shadow: 0px 1px 3px 1px rgba(0, 0, 0, 0.15);\n",
              "      filter: drop-shadow(0px 1px 2px rgba(0, 0, 0, 0.3));\n",
              "      fill: #FFFFFF;\n",
              "    }\n",
              "  </style>\n",
              "\n",
              "      <script>\n",
              "        const buttonEl =\n",
              "          document.querySelector('#df-e3e374f8-70b7-409d-879a-f84d72e90176 button.colab-df-convert');\n",
              "        buttonEl.style.display =\n",
              "          google.colab.kernel.accessAllowed ? 'block' : 'none';\n",
              "\n",
              "        async function convertToInteractive(key) {\n",
              "          const element = document.querySelector('#df-e3e374f8-70b7-409d-879a-f84d72e90176');\n",
              "          const dataTable =\n",
              "            await google.colab.kernel.invokeFunction('convertToInteractive',\n",
              "                                                     [key], {});\n",
              "          if (!dataTable) return;\n",
              "\n",
              "          const docLinkHtml = 'Like what you see? Visit the ' +\n",
              "            '<a target=\"_blank\" href=https://colab.research.google.com/notebooks/data_table.ipynb>data table notebook</a>'\n",
              "            + ' to learn more about interactive tables.';\n",
              "          element.innerHTML = '';\n",
              "          dataTable['output_type'] = 'display_data';\n",
              "          await google.colab.output.renderOutput(dataTable, element);\n",
              "          const docLink = document.createElement('div');\n",
              "          docLink.innerHTML = docLinkHtml;\n",
              "          element.appendChild(docLink);\n",
              "        }\n",
              "      </script>\n",
              "    </div>\n",
              "  </div>\n",
              "  "
            ]
          },
          "metadata": {},
          "execution_count": 70
        }
      ]
    },
    {
      "cell_type": "code",
      "source": [
        "# information about features in new_df\n",
        "new_df.info()"
      ],
      "metadata": {
        "colab": {
          "base_uri": "https://localhost:8080/"
        },
        "id": "CYkRUT3rqC4u",
        "outputId": "74cad8af-1198-43d9-d73b-f06b9839cf61"
      },
      "execution_count": 71,
      "outputs": [
        {
          "output_type": "stream",
          "name": "stdout",
          "text": [
            "<class 'pandas.core.frame.DataFrame'>\n",
            "RangeIndex: 181691 entries, 0 to 181690\n",
            "Data columns (total 16 columns):\n",
            " #   Column       Non-Null Count   Dtype  \n",
            "---  ------       --------------   -----  \n",
            " 0   Year         181691 non-null  int64  \n",
            " 1   Month        181691 non-null  int64  \n",
            " 2   Day          181691 non-null  int64  \n",
            " 3   Country      181691 non-null  object \n",
            " 4   Region       181691 non-null  object \n",
            " 5   State        181270 non-null  object \n",
            " 6   City         181257 non-null  object \n",
            " 7   Latitude     177135 non-null  float64\n",
            " 8   Longitude    177134 non-null  float64\n",
            " 9   Summary      115562 non-null  object \n",
            " 10  Attack_Type  181691 non-null  object \n",
            " 11  Target_Type  181691 non-null  object \n",
            " 12  Group        181691 non-null  object \n",
            " 13  Weapon_Type  181691 non-null  object \n",
            " 14  Killed       171378 non-null  float64\n",
            " 15  Wounded      165380 non-null  float64\n",
            "dtypes: float64(4), int64(3), object(9)\n",
            "memory usage: 22.2+ MB\n"
          ]
        }
      ]
    },
    {
      "cell_type": "markdown",
      "source": [
        "## In new_df, total entries(rows) are around 1,81,691. If we abserve the non-null values count, we can say that, there are lot of null values in columns named \"Latitude\", \"Longitude\", \"Summary\", \"Killed\". Even if we decided to remove the rows which are having null values we will end up with more than 1,15,000 rows (These rows are enough for Exploratory Data Analysis)."
      ],
      "metadata": {
        "id": "rKn86MqcwANV"
      }
    },
    {
      "cell_type": "code",
      "source": [
        "# Replacing null values in killed and wounded with zero\n",
        "new_df[\"Killed\"]=new_df[\"Killed\"].fillna(0).astype(int)\n",
        "new_df[\"Wounded\"]=new_df[\"Wounded\"].fillna(0).astype(int)"
      ],
      "metadata": {
        "id": "ui6aOfEzvkGi"
      },
      "execution_count": 72,
      "outputs": []
    },
    {
      "cell_type": "code",
      "source": [
        "# Dropping the rows which are having one or more than one null value\n",
        "new_df=new_df.dropna()"
      ],
      "metadata": {
        "id": "4b227BSovucq"
      },
      "execution_count": 73,
      "outputs": []
    },
    {
      "cell_type": "code",
      "source": [
        "new_df.info()"
      ],
      "metadata": {
        "colab": {
          "base_uri": "https://localhost:8080/"
        },
        "id": "p3sh5eaA0KVe",
        "outputId": "d3da2766-2cd5-46c3-fe14-ab9abc6e5593"
      },
      "execution_count": 74,
      "outputs": [
        {
          "output_type": "stream",
          "name": "stdout",
          "text": [
            "<class 'pandas.core.frame.DataFrame'>\n",
            "Int64Index: 114175 entries, 5 to 181690\n",
            "Data columns (total 16 columns):\n",
            " #   Column       Non-Null Count   Dtype  \n",
            "---  ------       --------------   -----  \n",
            " 0   Year         114175 non-null  int64  \n",
            " 1   Month        114175 non-null  int64  \n",
            " 2   Day          114175 non-null  int64  \n",
            " 3   Country      114175 non-null  object \n",
            " 4   Region       114175 non-null  object \n",
            " 5   State        114175 non-null  object \n",
            " 6   City         114175 non-null  object \n",
            " 7   Latitude     114175 non-null  float64\n",
            " 8   Longitude    114175 non-null  float64\n",
            " 9   Summary      114175 non-null  object \n",
            " 10  Attack_Type  114175 non-null  object \n",
            " 11  Target_Type  114175 non-null  object \n",
            " 12  Group        114175 non-null  object \n",
            " 13  Weapon_Type  114175 non-null  object \n",
            " 14  Killed       114175 non-null  int64  \n",
            " 15  Wounded      114175 non-null  int64  \n",
            "dtypes: float64(2), int64(5), object(9)\n",
            "memory usage: 14.8+ MB\n"
          ]
        }
      ]
    },
    {
      "cell_type": "code",
      "source": [
        "# first ten rows\n",
        "new_df.head(10)"
      ],
      "metadata": {
        "colab": {
          "base_uri": "https://localhost:8080/",
          "height": 754
        },
        "id": "_QgdFKhd0MjF",
        "outputId": "4ebd7735-3ddc-49b2-96e4-786592d51d27"
      },
      "execution_count": 75,
      "outputs": [
        {
          "output_type": "execute_result",
          "data": {
            "text/plain": [
              "    Year  Month  Day        Country         Region        State  \\\n",
              "5   1970      1    1  United States  North America     Illinois   \n",
              "7   1970      1    2  United States  North America   California   \n",
              "8   1970      1    2  United States  North America    Wisconsin   \n",
              "9   1970      1    3  United States  North America    Wisconsin   \n",
              "11  1970      1    6  United States  North America     Colorado   \n",
              "13  1970      1    9  United States  North America     Michigan   \n",
              "14  1970      1    9  United States  North America  Puerto Rico   \n",
              "17  1970      1   12  United States  North America     New York   \n",
              "18  1970      1   12  United States  North America  Puerto Rico   \n",
              "19  1970      1   13  United States  North America   Washington   \n",
              "\n",
              "             City   Latitude   Longitude  \\\n",
              "5           Cairo  37.005105  -89.176269   \n",
              "7         Oakland  37.791927 -122.225906   \n",
              "8         Madison  43.076592  -89.412488   \n",
              "9         Madison  43.072950  -89.386694   \n",
              "11         Denver  39.758968 -104.876305   \n",
              "13        Detroit  42.331685  -83.047924   \n",
              "14    Rio Piedras  18.386932  -66.061127   \n",
              "17  New York City  40.697132  -73.931351   \n",
              "18     Rio Grande  18.379998  -65.830948   \n",
              "19        Seattle  47.610786 -122.331306   \n",
              "\n",
              "                                              Summary  \\\n",
              "5   1/1/1970: Unknown African American assailants ...   \n",
              "7   1/2/1970: Unknown perpetrators detonated explo...   \n",
              "8   1/2/1970: Karl Armstrong, a member of the New ...   \n",
              "9   1/3/1970: Karl Armstrong, a member of the New ...   \n",
              "11  1/6/1970: Unknown perpetrators threw a Molotov...   \n",
              "13  1/9/1970: Unknown perpetrators set off a fireb...   \n",
              "14  1/9/1970:  The Armed Commandos of Liberation c...   \n",
              "17  1/12/1970: Unknown perpetrators threw a pipe b...   \n",
              "18  1/12/1970: Unknown perpetrators detonated a bo...   \n",
              "19  1/13/1970: Unknown perpetrators firebombed Fus...   \n",
              "\n",
              "                       Attack_Type              Target_Type  \\\n",
              "5                    Armed Assault                   Police   \n",
              "7                Bombing/Explosion                Utilities   \n",
              "8   Facility/Infrastructure Attack                 Military   \n",
              "9   Facility/Infrastructure Attack     Government (General)   \n",
              "11  Facility/Infrastructure Attack                 Military   \n",
              "13  Facility/Infrastructure Attack     Government (General)   \n",
              "14  Facility/Infrastructure Attack                 Business   \n",
              "17               Bombing/Explosion  Educational Institution   \n",
              "18               Bombing/Explosion                 Business   \n",
              "19  Facility/Infrastructure Attack                 Business   \n",
              "\n",
              "                            Group Weapon_Type  Killed  Wounded  \n",
              "5              Black Nationalists    Firearms       0        0  \n",
              "7                         Unknown  Explosives       0        0  \n",
              "8                 New Year's Gang  Incendiary       0        0  \n",
              "9                 New Year's Gang  Incendiary       0        0  \n",
              "11            Left-Wing Militants  Incendiary       0        0  \n",
              "13            Left-Wing Militants  Incendiary       0        0  \n",
              "14  Armed Commandos of Liberation  Incendiary       0        0  \n",
              "17             Black Nationalists  Explosives       0        0  \n",
              "18                       Strikers  Explosives       0        0  \n",
              "19             Black Nationalists  Incendiary       0        0  "
            ],
            "text/html": [
              "\n",
              "  <div id=\"df-91fdded6-9a50-44e4-a9bd-13ec7373d467\">\n",
              "    <div class=\"colab-df-container\">\n",
              "      <div>\n",
              "<style scoped>\n",
              "    .dataframe tbody tr th:only-of-type {\n",
              "        vertical-align: middle;\n",
              "    }\n",
              "\n",
              "    .dataframe tbody tr th {\n",
              "        vertical-align: top;\n",
              "    }\n",
              "\n",
              "    .dataframe thead th {\n",
              "        text-align: right;\n",
              "    }\n",
              "</style>\n",
              "<table border=\"1\" class=\"dataframe\">\n",
              "  <thead>\n",
              "    <tr style=\"text-align: right;\">\n",
              "      <th></th>\n",
              "      <th>Year</th>\n",
              "      <th>Month</th>\n",
              "      <th>Day</th>\n",
              "      <th>Country</th>\n",
              "      <th>Region</th>\n",
              "      <th>State</th>\n",
              "      <th>City</th>\n",
              "      <th>Latitude</th>\n",
              "      <th>Longitude</th>\n",
              "      <th>Summary</th>\n",
              "      <th>Attack_Type</th>\n",
              "      <th>Target_Type</th>\n",
              "      <th>Group</th>\n",
              "      <th>Weapon_Type</th>\n",
              "      <th>Killed</th>\n",
              "      <th>Wounded</th>\n",
              "    </tr>\n",
              "  </thead>\n",
              "  <tbody>\n",
              "    <tr>\n",
              "      <th>5</th>\n",
              "      <td>1970</td>\n",
              "      <td>1</td>\n",
              "      <td>1</td>\n",
              "      <td>United States</td>\n",
              "      <td>North America</td>\n",
              "      <td>Illinois</td>\n",
              "      <td>Cairo</td>\n",
              "      <td>37.005105</td>\n",
              "      <td>-89.176269</td>\n",
              "      <td>1/1/1970: Unknown African American assailants ...</td>\n",
              "      <td>Armed Assault</td>\n",
              "      <td>Police</td>\n",
              "      <td>Black Nationalists</td>\n",
              "      <td>Firearms</td>\n",
              "      <td>0</td>\n",
              "      <td>0</td>\n",
              "    </tr>\n",
              "    <tr>\n",
              "      <th>7</th>\n",
              "      <td>1970</td>\n",
              "      <td>1</td>\n",
              "      <td>2</td>\n",
              "      <td>United States</td>\n",
              "      <td>North America</td>\n",
              "      <td>California</td>\n",
              "      <td>Oakland</td>\n",
              "      <td>37.791927</td>\n",
              "      <td>-122.225906</td>\n",
              "      <td>1/2/1970: Unknown perpetrators detonated explo...</td>\n",
              "      <td>Bombing/Explosion</td>\n",
              "      <td>Utilities</td>\n",
              "      <td>Unknown</td>\n",
              "      <td>Explosives</td>\n",
              "      <td>0</td>\n",
              "      <td>0</td>\n",
              "    </tr>\n",
              "    <tr>\n",
              "      <th>8</th>\n",
              "      <td>1970</td>\n",
              "      <td>1</td>\n",
              "      <td>2</td>\n",
              "      <td>United States</td>\n",
              "      <td>North America</td>\n",
              "      <td>Wisconsin</td>\n",
              "      <td>Madison</td>\n",
              "      <td>43.076592</td>\n",
              "      <td>-89.412488</td>\n",
              "      <td>1/2/1970: Karl Armstrong, a member of the New ...</td>\n",
              "      <td>Facility/Infrastructure Attack</td>\n",
              "      <td>Military</td>\n",
              "      <td>New Year's Gang</td>\n",
              "      <td>Incendiary</td>\n",
              "      <td>0</td>\n",
              "      <td>0</td>\n",
              "    </tr>\n",
              "    <tr>\n",
              "      <th>9</th>\n",
              "      <td>1970</td>\n",
              "      <td>1</td>\n",
              "      <td>3</td>\n",
              "      <td>United States</td>\n",
              "      <td>North America</td>\n",
              "      <td>Wisconsin</td>\n",
              "      <td>Madison</td>\n",
              "      <td>43.072950</td>\n",
              "      <td>-89.386694</td>\n",
              "      <td>1/3/1970: Karl Armstrong, a member of the New ...</td>\n",
              "      <td>Facility/Infrastructure Attack</td>\n",
              "      <td>Government (General)</td>\n",
              "      <td>New Year's Gang</td>\n",
              "      <td>Incendiary</td>\n",
              "      <td>0</td>\n",
              "      <td>0</td>\n",
              "    </tr>\n",
              "    <tr>\n",
              "      <th>11</th>\n",
              "      <td>1970</td>\n",
              "      <td>1</td>\n",
              "      <td>6</td>\n",
              "      <td>United States</td>\n",
              "      <td>North America</td>\n",
              "      <td>Colorado</td>\n",
              "      <td>Denver</td>\n",
              "      <td>39.758968</td>\n",
              "      <td>-104.876305</td>\n",
              "      <td>1/6/1970: Unknown perpetrators threw a Molotov...</td>\n",
              "      <td>Facility/Infrastructure Attack</td>\n",
              "      <td>Military</td>\n",
              "      <td>Left-Wing Militants</td>\n",
              "      <td>Incendiary</td>\n",
              "      <td>0</td>\n",
              "      <td>0</td>\n",
              "    </tr>\n",
              "    <tr>\n",
              "      <th>13</th>\n",
              "      <td>1970</td>\n",
              "      <td>1</td>\n",
              "      <td>9</td>\n",
              "      <td>United States</td>\n",
              "      <td>North America</td>\n",
              "      <td>Michigan</td>\n",
              "      <td>Detroit</td>\n",
              "      <td>42.331685</td>\n",
              "      <td>-83.047924</td>\n",
              "      <td>1/9/1970: Unknown perpetrators set off a fireb...</td>\n",
              "      <td>Facility/Infrastructure Attack</td>\n",
              "      <td>Government (General)</td>\n",
              "      <td>Left-Wing Militants</td>\n",
              "      <td>Incendiary</td>\n",
              "      <td>0</td>\n",
              "      <td>0</td>\n",
              "    </tr>\n",
              "    <tr>\n",
              "      <th>14</th>\n",
              "      <td>1970</td>\n",
              "      <td>1</td>\n",
              "      <td>9</td>\n",
              "      <td>United States</td>\n",
              "      <td>North America</td>\n",
              "      <td>Puerto Rico</td>\n",
              "      <td>Rio Piedras</td>\n",
              "      <td>18.386932</td>\n",
              "      <td>-66.061127</td>\n",
              "      <td>1/9/1970:  The Armed Commandos of Liberation c...</td>\n",
              "      <td>Facility/Infrastructure Attack</td>\n",
              "      <td>Business</td>\n",
              "      <td>Armed Commandos of Liberation</td>\n",
              "      <td>Incendiary</td>\n",
              "      <td>0</td>\n",
              "      <td>0</td>\n",
              "    </tr>\n",
              "    <tr>\n",
              "      <th>17</th>\n",
              "      <td>1970</td>\n",
              "      <td>1</td>\n",
              "      <td>12</td>\n",
              "      <td>United States</td>\n",
              "      <td>North America</td>\n",
              "      <td>New York</td>\n",
              "      <td>New York City</td>\n",
              "      <td>40.697132</td>\n",
              "      <td>-73.931351</td>\n",
              "      <td>1/12/1970: Unknown perpetrators threw a pipe b...</td>\n",
              "      <td>Bombing/Explosion</td>\n",
              "      <td>Educational Institution</td>\n",
              "      <td>Black Nationalists</td>\n",
              "      <td>Explosives</td>\n",
              "      <td>0</td>\n",
              "      <td>0</td>\n",
              "    </tr>\n",
              "    <tr>\n",
              "      <th>18</th>\n",
              "      <td>1970</td>\n",
              "      <td>1</td>\n",
              "      <td>12</td>\n",
              "      <td>United States</td>\n",
              "      <td>North America</td>\n",
              "      <td>Puerto Rico</td>\n",
              "      <td>Rio Grande</td>\n",
              "      <td>18.379998</td>\n",
              "      <td>-65.830948</td>\n",
              "      <td>1/12/1970: Unknown perpetrators detonated a bo...</td>\n",
              "      <td>Bombing/Explosion</td>\n",
              "      <td>Business</td>\n",
              "      <td>Strikers</td>\n",
              "      <td>Explosives</td>\n",
              "      <td>0</td>\n",
              "      <td>0</td>\n",
              "    </tr>\n",
              "    <tr>\n",
              "      <th>19</th>\n",
              "      <td>1970</td>\n",
              "      <td>1</td>\n",
              "      <td>13</td>\n",
              "      <td>United States</td>\n",
              "      <td>North America</td>\n",
              "      <td>Washington</td>\n",
              "      <td>Seattle</td>\n",
              "      <td>47.610786</td>\n",
              "      <td>-122.331306</td>\n",
              "      <td>1/13/1970: Unknown perpetrators firebombed Fus...</td>\n",
              "      <td>Facility/Infrastructure Attack</td>\n",
              "      <td>Business</td>\n",
              "      <td>Black Nationalists</td>\n",
              "      <td>Incendiary</td>\n",
              "      <td>0</td>\n",
              "      <td>0</td>\n",
              "    </tr>\n",
              "  </tbody>\n",
              "</table>\n",
              "</div>\n",
              "      <button class=\"colab-df-convert\" onclick=\"convertToInteractive('df-91fdded6-9a50-44e4-a9bd-13ec7373d467')\"\n",
              "              title=\"Convert this dataframe to an interactive table.\"\n",
              "              style=\"display:none;\">\n",
              "        \n",
              "  <svg xmlns=\"http://www.w3.org/2000/svg\" height=\"24px\"viewBox=\"0 0 24 24\"\n",
              "       width=\"24px\">\n",
              "    <path d=\"M0 0h24v24H0V0z\" fill=\"none\"/>\n",
              "    <path d=\"M18.56 5.44l.94 2.06.94-2.06 2.06-.94-2.06-.94-.94-2.06-.94 2.06-2.06.94zm-11 1L8.5 8.5l.94-2.06 2.06-.94-2.06-.94L8.5 2.5l-.94 2.06-2.06.94zm10 10l.94 2.06.94-2.06 2.06-.94-2.06-.94-.94-2.06-.94 2.06-2.06.94z\"/><path d=\"M17.41 7.96l-1.37-1.37c-.4-.4-.92-.59-1.43-.59-.52 0-1.04.2-1.43.59L10.3 9.45l-7.72 7.72c-.78.78-.78 2.05 0 2.83L4 21.41c.39.39.9.59 1.41.59.51 0 1.02-.2 1.41-.59l7.78-7.78 2.81-2.81c.8-.78.8-2.07 0-2.86zM5.41 20L4 18.59l7.72-7.72 1.47 1.35L5.41 20z\"/>\n",
              "  </svg>\n",
              "      </button>\n",
              "      \n",
              "  <style>\n",
              "    .colab-df-container {\n",
              "      display:flex;\n",
              "      flex-wrap:wrap;\n",
              "      gap: 12px;\n",
              "    }\n",
              "\n",
              "    .colab-df-convert {\n",
              "      background-color: #E8F0FE;\n",
              "      border: none;\n",
              "      border-radius: 50%;\n",
              "      cursor: pointer;\n",
              "      display: none;\n",
              "      fill: #1967D2;\n",
              "      height: 32px;\n",
              "      padding: 0 0 0 0;\n",
              "      width: 32px;\n",
              "    }\n",
              "\n",
              "    .colab-df-convert:hover {\n",
              "      background-color: #E2EBFA;\n",
              "      box-shadow: 0px 1px 2px rgba(60, 64, 67, 0.3), 0px 1px 3px 1px rgba(60, 64, 67, 0.15);\n",
              "      fill: #174EA6;\n",
              "    }\n",
              "\n",
              "    [theme=dark] .colab-df-convert {\n",
              "      background-color: #3B4455;\n",
              "      fill: #D2E3FC;\n",
              "    }\n",
              "\n",
              "    [theme=dark] .colab-df-convert:hover {\n",
              "      background-color: #434B5C;\n",
              "      box-shadow: 0px 1px 3px 1px rgba(0, 0, 0, 0.15);\n",
              "      filter: drop-shadow(0px 1px 2px rgba(0, 0, 0, 0.3));\n",
              "      fill: #FFFFFF;\n",
              "    }\n",
              "  </style>\n",
              "\n",
              "      <script>\n",
              "        const buttonEl =\n",
              "          document.querySelector('#df-91fdded6-9a50-44e4-a9bd-13ec7373d467 button.colab-df-convert');\n",
              "        buttonEl.style.display =\n",
              "          google.colab.kernel.accessAllowed ? 'block' : 'none';\n",
              "\n",
              "        async function convertToInteractive(key) {\n",
              "          const element = document.querySelector('#df-91fdded6-9a50-44e4-a9bd-13ec7373d467');\n",
              "          const dataTable =\n",
              "            await google.colab.kernel.invokeFunction('convertToInteractive',\n",
              "                                                     [key], {});\n",
              "          if (!dataTable) return;\n",
              "\n",
              "          const docLinkHtml = 'Like what you see? Visit the ' +\n",
              "            '<a target=\"_blank\" href=https://colab.research.google.com/notebooks/data_table.ipynb>data table notebook</a>'\n",
              "            + ' to learn more about interactive tables.';\n",
              "          element.innerHTML = '';\n",
              "          dataTable['output_type'] = 'display_data';\n",
              "          await google.colab.output.renderOutput(dataTable, element);\n",
              "          const docLink = document.createElement('div');\n",
              "          docLink.innerHTML = docLinkHtml;\n",
              "          element.appendChild(docLink);\n",
              "        }\n",
              "      </script>\n",
              "    </div>\n",
              "  </div>\n",
              "  "
            ]
          },
          "metadata": {},
          "execution_count": 75
        }
      ]
    },
    {
      "cell_type": "markdown",
      "source": [
        "## Univariate Analysis:"
      ],
      "metadata": {
        "id": "m03bLPqm1TtI"
      }
    },
    {
      "cell_type": "code",
      "source": [
        "# Percentage of diifernt attack types\n",
        "print(\"Percentage of diifernt attack types among total attacks:\\n\")\n",
        "(new_df['Attack_Type'].value_counts()/new_df.shape[0])*100"
      ],
      "metadata": {
        "colab": {
          "base_uri": "https://localhost:8080/"
        },
        "id": "cmlJJK3v0q0E",
        "outputId": "2e7eb216-bf66-4baa-eabc-92c911bb20c7"
      },
      "execution_count": 79,
      "outputs": [
        {
          "output_type": "stream",
          "name": "stdout",
          "text": [
            "Percentage of diifernt attack types among total attacks:\n",
            "\n"
          ]
        },
        {
          "output_type": "execute_result",
          "data": {
            "text/plain": [
              "Bombing/Explosion                      52.738340\n",
              "Armed Assault                          23.410554\n",
              "Hostage Taking (Kidnapping)             6.973506\n",
              "Assassination                           6.191373\n",
              "Facility/Infrastructure Attack          5.459164\n",
              "Unknown                                 4.014014\n",
              "Unarmed Assault                         0.568426\n",
              "Hostage Taking (Barricade Incident)     0.361725\n",
              "Hijacking                               0.282899\n",
              "Name: Attack_Type, dtype: float64"
            ]
          },
          "metadata": {},
          "execution_count": 79
        }
      ]
    },
    {
      "cell_type": "code",
      "source": [
        "# visualisation of attack type distribution\n",
        "\n",
        "plt.figure(figsize=(12,4))\n",
        "\n",
        "# histogram\n",
        "sns.histplot(new_df['Attack_Type'],palette='cubehelix')\n",
        "plt.title('Attack Types',fontsize=16)\n",
        "plt.xticks(rotation=90)"
      ],
      "metadata": {
        "colab": {
          "base_uri": "https://localhost:8080/",
          "height": 484
        },
        "id": "rAxJuB2m16i0",
        "outputId": "587c08c5-2529-4b81-bb3a-607405a0d704"
      },
      "execution_count": 84,
      "outputs": [
        {
          "output_type": "execute_result",
          "data": {
            "text/plain": [
              "([0, 1, 2, 3, 4, 5, 6, 7, 8], <a list of 9 Text major ticklabel objects>)"
            ]
          },
          "metadata": {},
          "execution_count": 84
        },
        {
          "output_type": "display_data",
          "data": {
            "text/plain": [
              "<Figure size 864x288 with 1 Axes>"
            ],
            "image/png": "[encoded data removed]"
          },
          "metadata": {
            "needs_background": "light"
          }
        }
      ]
    },
    {
      "cell_type": "code",
      "source": [
        "# Plot histogram\n",
        "sns.histplot(data = new_df, x = \"Attack_Type\", stat = \"probability\", discrete = True)\n",
        "plt.xticks(rotation=90)\n",
        "plt.title('Attack Types',fontsize=16)"
      ],
      "metadata": {
        "colab": {
          "base_uri": "https://localhost:8080/",
          "height": 484
        },
        "id": "yDKLxpq84e5U",
        "outputId": "850b69f7-6875-4c89-a137-386965cc6389"
      },
      "execution_count": 87,
      "outputs": [
        {
          "output_type": "execute_result",
          "data": {
            "text/plain": [
              "Text(0.5, 1.0, 'Attack Types')"
            ]
          },
          "metadata": {},
          "execution_count": 87
        },
        {
          "output_type": "display_data",
          "data": {
            "text/plain": [
              "<Figure size 432x288 with 1 Axes>"
            ],
            "image/png": "[encoded data removed]"
          },
          "metadata": {
            "needs_background": "light"
          }
        }
      ]
    },
    {
      "cell_type": "code",
      "source": [
        ""
      ],
      "metadata": {
        "id": "_aCeZxrA5Xx0"
      },
      "execution_count": null,
      "outputs": []
    }
  ]
}